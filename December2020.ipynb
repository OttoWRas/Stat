{
 "cells": [
  {
   "attachments": {},
   "cell_type": "markdown",
   "metadata": {},
   "source": [
    "# Opgave I"
   ]
  },
  {
   "attachments": {},
   "cell_type": "markdown",
   "metadata": {},
   "source": [
    "#### **Spørgsmål I.1 (1)**\n",
    "Hvilken af følgende udsagn er korrekt?"
   ]
  },
  {
   "attachments": {},
   "cell_type": "markdown",
   "metadata": {},
   "source": [
    "IQR findes ved at trække Q1 fra Q3. "
   ]
  },
  {
   "cell_type": "code",
   "execution_count": 53,
   "metadata": {
    "vscode": {
     "languageId": "r"
    }
   },
   "outputs": [
    {
     "data": {
      "text/html": [
       "17"
      ],
      "text/latex": [
       "17"
      ],
      "text/markdown": [
       "17"
      ],
      "text/plain": [
       "[1] 17"
      ]
     },
     "metadata": {},
     "output_type": "display_data"
    }
   ],
   "source": [
    "# IQR = Q33 - Q1\n",
    "# Aflæses i blottet.\n",
    "133-116"
   ]
  },
  {
   "attachments": {},
   "cell_type": "markdown",
   "metadata": {},
   "source": [
    "Svar: **2**"
   ]
  },
  {
   "attachments": {},
   "cell_type": "markdown",
   "metadata": {},
   "source": [
    "# Opgave II"
   ]
  },
  {
   "attachments": {},
   "cell_type": "markdown",
   "metadata": {},
   "source": [
    "#### **Spørgsmål II.1 (2)**\n",
    "Baseret på tallene i tabellen, hvad er det sædvanlige 95% konfidensinterval for sandsynligheden\n",
    "for, at hvis du indlægges, er du også indlagt på en intensivafdeling? Antag, at modelantagelserne\n",
    "er opfyldt."
   ]
  },
  {
   "cell_type": "code",
   "execution_count": 54,
   "metadata": {
    "vscode": {
     "languageId": "r"
    }
   },
   "outputs": [
    {
     "data": {
      "text/html": [
       "<style>\n",
       ".list-inline {list-style: none; margin:0; padding: 0}\n",
       ".list-inline>li {display: inline-block}\n",
       ".list-inline>li:not(:last-child)::after {content: \"\\00b7\"; padding: 0 .5ex}\n",
       "</style>\n",
       "<ol class=list-inline><li>0.222734961717347</li><li>0.281426750529978</li></ol>\n"
      ],
      "text/latex": [
       "\\begin{enumerate*}\n",
       "\\item 0.222734961717347\n",
       "\\item 0.281426750529978\n",
       "\\end{enumerate*}\n"
      ],
      "text/markdown": [
       "1. 0.222734961717347\n",
       "2. 0.281426750529978\n",
       "\n",
       "\n"
      ],
      "text/plain": [
       "[1] 0.2227350 0.2814268"
      ]
     },
     "metadata": {},
     "output_type": "display_data"
    }
   ],
   "source": [
    "n = (255+433+153)\n",
    "p = (62+113+37)/n\n",
    "# Eller blot\n",
    "p + c(-1,1) * sqrt(p * (1 - p) / n) * qnorm(0.975)"
   ]
  },
  {
   "attachments": {},
   "cell_type": "markdown",
   "metadata": {},
   "source": [
    "Svar: **3**"
   ]
  },
  {
   "attachments": {},
   "cell_type": "markdown",
   "metadata": {},
   "source": [
    "#### **Spørgsmål II.2 (3)**\n",
    "For at undersøge udviklingen over tid sammenlignes tallene fra 30. april og 20. marts. Med nul-\n",
    "hypotesen om at andelen af patienter i ICU kan være ens på de to datoer, hvad er p-værdien\n",
    "og konklusionen givet signifikansniveau α = 0.05? (Både konklusion og argument skal være\n",
    "korrekt)"
   ]
  },
  {
   "cell_type": "code",
   "execution_count": 55,
   "metadata": {
    "vscode": {
     "languageId": "r"
    }
   },
   "outputs": [
    {
     "data": {
      "text/plain": [
       "\n",
       "\t2-sample test for equality of proportions without continuity correction\n",
       "\n",
       "data:  c(62, 37) out of c(255, 153)\n",
       "X-squared = 0.00088915, df = 1, p-value = 0.9762\n",
       "alternative hypothesis: two.sided\n",
       "95 percent confidence interval:\n",
       " -0.08457431  0.08718868\n",
       "sample estimates:\n",
       "   prop 1    prop 2 \n",
       "0.2431373 0.2418301 \n"
      ]
     },
     "metadata": {},
     "output_type": "display_data"
    }
   ],
   "source": [
    "prop.test(x=c(62,37), n=c(255,153), correct=FALSE, conf.level=0.95)"
   ]
  },
  {
   "attachments": {},
   "cell_type": "markdown",
   "metadata": {},
   "source": [
    "p-værdien findes til 0.9762 hvilket er større end 0.05, hvorfor den vurderes ikke signifikant.\n",
    "\n",
    "Svar: **3**"
   ]
  },
  {
   "attachments": {},
   "cell_type": "markdown",
   "metadata": {},
   "source": [
    "#### **Spørgsmål II.3 (4)**\n",
    "Fordelingen af patienter over forskellige regioner undersøges nu. Tabellen herunder viser antallet\n",
    "af personer indlagt på hospitaller på forskellige datoer i de 5 regioner i Danmark. Vi antager\n",
    "her, at den samme person ikke er indlagt på mere end 1 dato.\n",
    "\n",
    "Under nulhypotesen, hvad er bidraget til teststørrelsen for “Nordjylland ” den 18. marts?"
   ]
  },
  {
   "attachments": {},
   "cell_type": "markdown",
   "metadata": {},
   "source": [
    "Svar **BLANK**"
   ]
  },
  {
   "attachments": {},
   "cell_type": "markdown",
   "metadata": {},
   "source": [
    "#### **Spørgsmål II.4 (5)**\n",
    "Test størrelsen er beregnet til χ2obs = 29. Givet et signifikansniveau α = 0.05, hvad er p-værdien\n",
    "og konklusionen for den tilsvarende hypotesetest? (Både konklusion og argument skal være\n",
    "korrekt)"
   ]
  },
  {
   "cell_type": "markdown",
   "metadata": {},
   "source": []
  },
  {
   "cell_type": "code",
   "execution_count": 56,
   "metadata": {
    "vscode": {
     "languageId": "r"
    }
   },
   "outputs": [
    {
     "data": {
      "text/plain": [
       "\n",
       "\tPearson's Chi-squared test\n",
       "\n",
       "data:  x\n",
       "X-squared = 29, df = 12, p-value = 0.00394\n"
      ]
     },
     "metadata": {},
     "output_type": "display_data"
    }
   ],
   "source": [
    "x <- matrix(c(13,33,12,144,53,21,54,35,183,60,32,77,85,251,86,10,16,12,64,27), ncol=5, byrow=TRUE)\n",
    "chisq.test(x, correct = FALSE)"
   ]
  },
  {
   "attachments": {},
   "cell_type": "markdown",
   "metadata": {},
   "source": [
    "p-værdien findes til 0.00394 (< alpha), og der er derfor signifikant forskel.\n",
    "\n",
    "Svar: **5**"
   ]
  },
  {
   "attachments": {},
   "cell_type": "markdown",
   "metadata": {},
   "source": [
    "#### **Spørgsmål II.5 (6)**\n",
    "Hvis vi på en given dag antager, at 4% af befolkningen er inficeret med en virus, hvor man-\n",
    "ge mennesker skal så testes tilfældigt for at få en fejlmargin på maksimalt 1% ved brug af\n",
    "signifikansniveau α = 0.05?"
   ]
  },
  {
   "cell_type": "code",
   "execution_count": 57,
   "metadata": {
    "vscode": {
     "languageId": "r"
    }
   },
   "outputs": [
    {
     "data": {
      "text/html": [
       "0.011915326011091"
      ],
      "text/latex": [
       "0.011915326011091"
      ],
      "text/markdown": [
       "0.011915326011091"
      ],
      "text/plain": [
       "[1] 0.01191533"
      ]
     },
     "metadata": {},
     "output_type": "display_data"
    },
    {
     "data": {
      "text/html": [
       "0.00999701915988457"
      ],
      "text/latex": [
       "0.00999701915988457"
      ],
      "text/markdown": [
       "0.00999701915988457"
      ],
      "text/plain": [
       "[1] 0.009997019"
      ]
     },
     "metadata": {},
     "output_type": "display_data"
    },
    {
     "data": {
      "text/html": [
       "0.0199940383197691"
      ],
      "text/latex": [
       "0.0199940383197691"
      ],
      "text/markdown": [
       "0.0199940383197691"
      ],
      "text/plain": [
       "[1] 0.01999404"
      ]
     },
     "metadata": {},
     "output_type": "display_data"
    },
    {
     "data": {
      "text/html": [
       "0.00391931562384961"
      ],
      "text/latex": [
       "0.00391931562384961"
      ],
      "text/markdown": [
       "0.00391931562384961"
      ],
      "text/plain": [
       "[1] 0.003919316"
      ]
     },
     "metadata": {},
     "output_type": "display_data"
    },
    {
     "data": {
      "text/html": [
       "0.00466994648414649"
      ],
      "text/latex": [
       "0.00466994648414649"
      ],
      "text/markdown": [
       "0.00466994648414649"
      ],
      "text/plain": [
       "[1] 0.004669946"
      ]
     },
     "metadata": {},
     "output_type": "display_data"
    }
   ],
   "source": [
    "qnorm(0.975) * sqrt((1/25 * (1-1/25))/1039)\n",
    "qnorm(0.975) * sqrt((1/25 * (1-1/25))/1476)\n",
    "qnorm(0.975) * sqrt((1/25 * (1-1/25))/369)\n",
    "qnorm(0.975) * sqrt((1/25 * (1-1/25))/9603)\n",
    "qnorm(0.975) * sqrt((1/25 * (1-1/25))/6764)"
   ]
  },
  {
   "attachments": {},
   "cell_type": "markdown",
   "metadata": {},
   "source": [
    "Kan også regnes direkte:"
   ]
  },
  {
   "cell_type": "code",
   "execution_count": 58,
   "metadata": {
    "vscode": {
     "languageId": "r"
    }
   },
   "outputs": [
    {
     "data": {
      "text/html": [
       "1475.12018714654"
      ],
      "text/latex": [
       "1475.12018714654"
      ],
      "text/markdown": [
       "1475.12018714654"
      ],
      "text/plain": [
       "[1] 1475.12"
      ]
     },
     "metadata": {},
     "output_type": "display_data"
    }
   ],
   "source": [
    "0.04 * 0.96 * (qnorm(0.975)/0.01)^2"
   ]
  },
  {
   "attachments": {},
   "cell_type": "markdown",
   "metadata": {},
   "source": [
    "Vi skal teste mindst 1476 mennesker for at opnå 1% ME (margin of error).\n",
    "\n",
    "Svar: **2**"
   ]
  },
  {
   "attachments": {},
   "cell_type": "markdown",
   "metadata": {},
   "source": [
    "# Opgave III"
   ]
  },
  {
   "attachments": {},
   "cell_type": "markdown",
   "metadata": {},
   "source": [
    "#### **Spørgsmål III.1 (7)**\n",
    "En første multipel lineær regressionsmodel blev etableret. Modeloversigten er angivet nedenfor.\n",
    "Antag, at modelantagelserne er opfyldt!"
   ]
  },
  {
   "attachments": {},
   "cell_type": "markdown",
   "metadata": {},
   "source": [
    "Sætning 1: Forkert idet begge p-værdier er større end 0.05, og vi kan derfor ikke antage at lønne afhænger heraf. \n",
    "\n",
    "Sætning 2: Forkert idet der sammenlignes med 0.025\n",
    "\n",
    "Sætning 3: Forkert idet vi har tilstrækkelig information.\n",
    "\n",
    "Sætning 4: Forkert idet begge p-værdier er større end 0.05.\n",
    "\n",
    "Sætning 5: Rigtig, idet p-værdierne er større end 0.05 hvorfor vi kan vurdere at de ikke har signifikant inflydelse. \n",
    "\n",
    "Svar: **5**"
   ]
  },
  {
   "attachments": {},
   "cell_type": "markdown",
   "metadata": {},
   "source": [
    "#### **Spørgsmål III.2 (8)**\n",
    "Backwards model selection blev udført for den multiple lineære regressionsmodel ovenfor, hvil-\n",
    "ket resulterede i følgende R-output:\n",
    "\n",
    "....\n",
    "\n",
    "Hvilken R-kode resulterer i det korrekte 95% konfidensinterval for gennemsnittet af Professor\n",
    "lønnen?"
   ]
  },
  {
   "attachments": {},
   "cell_type": "markdown",
   "metadata": {},
   "source": [
    "Det må være sætning 3, idet qt anvendes korrekt. 0.975 beskriver netop 95% konf interval, og df = 124 stemmer overens med output nr. 2.\n",
    "\n",
    "Svar: **3**"
   ]
  },
  {
   "attachments": {},
   "cell_type": "markdown",
   "metadata": {},
   "source": [
    "# Opgave IV"
   ]
  },
  {
   "attachments": {},
   "cell_type": "markdown",
   "metadata": {},
   "source": [
    "#### **Spørgsmål IV.1 (9)**\n",
    "Beregn den teststørrelse, som mangler i modeloversigten ovenfor (manglende værdier er erstat-\n",
    "tet af spørgsmålstegn i tabellen). Hvilket af følgende svar er rigtigt?"
   ]
  },
  {
   "attachments": {},
   "cell_type": "markdown",
   "metadata": {},
   "source": [
    "Tester samtlige muligheder:"
   ]
  },
  {
   "cell_type": "code",
   "execution_count": 59,
   "metadata": {
    "vscode": {
     "languageId": "r"
    }
   },
   "outputs": [
    {
     "data": {
      "text/html": [
       "0.984129874345892"
      ],
      "text/latex": [
       "0.984129874345892"
      ],
      "text/markdown": [
       "0.984129874345892"
      ],
      "text/plain": [
       "[1] 0.9841299"
      ]
     },
     "metadata": {},
     "output_type": "display_data"
    },
    {
     "data": {
      "text/html": [
       "4.44089209850063e-16"
      ],
      "text/latex": [
       "4.44089209850063e-16"
      ],
      "text/markdown": [
       "4.44089209850063e-16"
      ],
      "text/plain": [
       "[1] 4.440892e-16"
      ]
     },
     "metadata": {},
     "output_type": "display_data"
    },
    {
     "data": {
      "text/html": [
       "0.626462859294421"
      ],
      "text/latex": [
       "0.626462859294421"
      ],
      "text/markdown": [
       "0.626462859294421"
      ],
      "text/plain": [
       "[1] 0.6264629"
      ]
     },
     "metadata": {},
     "output_type": "display_data"
    },
    {
     "data": {
      "text/html": [
       "0"
      ],
      "text/latex": [
       "0"
      ],
      "text/markdown": [
       "0"
      ],
      "text/plain": [
       "[1] 0"
      ]
     },
     "metadata": {},
     "output_type": "display_data"
    },
    {
     "data": {
      "text/html": [
       "2.22044604925031e-16"
      ],
      "text/latex": [
       "2.22044604925031e-16"
      ],
      "text/markdown": [
       "2.22044604925031e-16"
      ],
      "text/plain": [
       "[1] 2.220446e-16"
      ]
     },
     "metadata": {},
     "output_type": "display_data"
    }
   ],
   "source": [
    "2 * (1-pt(abs(0.02), df=47-1))\n",
    "2 * (1-pt(abs(12.25), df=47-1))\n",
    "2 * (1-pt(abs(0.49), df=47-1))\n",
    "2 * (1-pt(abs(49.15), df=47-1))\n",
    "2 * (1-pt(abs(12.49), df=47-1))"
   ]
  },
  {
   "attachments": {},
   "cell_type": "markdown",
   "metadata": {},
   "source": [
    "0 ≃ <2e-16\n",
    "\n",
    "Svar: **4**"
   ]
  },
  {
   "attachments": {},
   "cell_type": "markdown",
   "metadata": {},
   "source": [
    "## **Spørgsmål IV.2 (10)**\n",
    "Vi vil teste hypotesen H0 : β0 = 0, hvor β0 repræsenterer modellens intercept. Hvilket af de\n",
    "følgende udsagn er korrekt (antag α = 0.05)? (Både argumentation og konklusion skal være\n",
    "korrekte!)"
   ]
  },
  {
   "attachments": {},
   "cell_type": "markdown",
   "metadata": {},
   "source": [
    "Udregner først tcrit:"
   ]
  },
  {
   "cell_type": "code",
   "execution_count": 60,
   "metadata": {
    "vscode": {
     "languageId": "r"
    }
   },
   "outputs": [
    {
     "data": {
      "text/html": [
       "2.01289559891943"
      ],
      "text/latex": [
       "2.01289559891943"
      ],
      "text/markdown": [
       "2.01289559891943"
      ],
      "text/plain": [
       "[1] 2.012896"
      ]
     },
     "metadata": {},
     "output_type": "display_data"
    }
   ],
   "source": [
    "qt(0.975,46)"
   ]
  },
  {
   "attachments": {},
   "cell_type": "markdown",
   "metadata": {},
   "source": [
    "Idet tobs > tcrit afvises H0.\n",
    "\n",
    "Svar: **2**"
   ]
  },
  {
   "attachments": {},
   "cell_type": "markdown",
   "metadata": {},
   "source": [
    "#### **Spørgsmål IV.3 (11)**\n",
    "I henhold til den lineære model ovenfor, hvad er den forventede stigning i antallet af transistorer\n",
    "fra 2010 til 2015?"
   ]
  },
  {
   "cell_type": "code",
   "execution_count": 61,
   "metadata": {
    "vscode": {
     "languageId": "r"
    }
   },
   "outputs": [],
   "source": [
    "#-6.786e+02 - 3.481e-01 * year\n",
    "y2010 = -6.786e+02 + 3.481e-01 * 2010\n",
    "y2015 = -6.786e+02 + 3.481e-01 * 2015\n",
    "\n",
    "dif = exp(y2015) - exp(y2010)\n"
   ]
  },
  {
   "attachments": {},
   "cell_type": "markdown",
   "metadata": {},
   "source": [
    "Svar: **3**"
   ]
  },
  {
   "attachments": {},
   "cell_type": "markdown",
   "metadata": {},
   "source": [
    "# Opgave V"
   ]
  },
  {
   "attachments": {},
   "cell_type": "markdown",
   "metadata": {},
   "source": [
    "#### **Spørgsmål V.1 (12)**\n",
    "Man er interesseret i at bestemme massefylden af en væske. For at gøre dette måles væskens\n",
    "masse, m, og volumenet, V . Massefylden er angivet ved\n",
    "m\n",
    "ρ=\n",
    "V\n",
    "Hvad er præcisionen (standardafvigelse, σρ ) for den udregnede massefylde, hvis massen og\n",
    "volumenet kan måles med en præcision henholdsvis σm = 0.2 og σV = 0.4? Antag at masse- og\n",
    "volumenmålinger er uafhængige og normalfordelte."
   ]
  },
  {
   "attachments": {},
   "cell_type": "markdown",
   "metadata": {},
   "source": [
    "blank"
   ]
  },
  {
   "attachments": {},
   "cell_type": "markdown",
   "metadata": {},
   "source": [
    "##### **Spørgsmål V.2 (13)**\n",
    "Lad Xi være en stokastisk variabel. Følgende kode køres i R for at trække 100 tilfældige tal Xi\n",
    "fra en given fordeling."
   ]
  },
  {
   "cell_type": "code",
   "execution_count": 63,
   "metadata": {
    "vscode": {
     "languageId": "r"
    }
   },
   "outputs": [
    {
     "data": {
      "text/plain": [
       "    Min.  1st Qu.   Median     Mean  3rd Qu.     Max. \n",
       " 0.04716  1.33512  2.61460  3.26315  5.14190 10.21328 "
      ]
     },
     "metadata": {},
     "output_type": "display_data"
    }
   ],
   "source": [
    "x <- rnorm(100)^2 + rnorm(100)^2 + rnorm(100)^2\n",
    "summary(x)"
   ]
  },
  {
   "cell_type": "markdown",
   "metadata": {},
   "source": [
    "Hvilket af følgende udsagn er korrekt?"
   ]
  },
  {
   "attachments": {},
   "cell_type": "markdown",
   "metadata": {},
   "source": [
    "# Opgave VI"
   ]
  },
  {
   "attachments": {},
   "cell_type": "markdown",
   "metadata": {},
   "source": [
    "#### **Spørgsmål VI.1 (15)**\n",
    "Hvilket af følgende er det korrekte 99% konfidensinterval for median-længden af anacondaer,\n",
    "hvis man antager at parametric bootstrapping blev brugt til at estimere intervallet?"
   ]
  },
  {
   "attachments": {},
   "cell_type": "markdown",
   "metadata": {},
   "source": [
    "1 er forkert CI interval.\n",
    "\n",
    "2 er forkert idet vi apply() ved brug af mean. \n",
    "\n",
    "3 er rigtig, idet CI interval er korrekt, vi inkluderer mean og sd i rnorm(), og vi apply() ved brug af median. \n",
    "\n",
    "Svar: **3**"
   ]
  },
  {
   "attachments": {},
   "cell_type": "markdown",
   "metadata": {},
   "source": [
    "#### **Spørgsmål VI.2 (16)**\n",
    "Hvilket af følgende er det korrekte 99% konfidensinterval for median-længden af anacondaer,\n",
    "hvis man antager at non-parametric bootstrapping blev brugt til at estimere intervallet?"
   ]
  },
  {
   "attachments": {},
   "cell_type": "markdown",
   "metadata": {},
   "source": [
    "Kan kun være enten 1 eller 2 da det er korrekt CI interval. Tænker det er sample (ud fra bogens eksempel 4.14 der også bruger sample.)\n",
    "\n",
    "Svar: **1**"
   ]
  },
  {
   "attachments": {},
   "cell_type": "markdown",
   "metadata": {},
   "source": [
    "# Opgave VII"
   ]
  },
  {
   "attachments": {},
   "cell_type": "markdown",
   "metadata": {},
   "source": [
    "#### **Spørgsmål VII.1 (17)**\n",
    "Du har samlet rav med en ven, og I fandt i alt 20 stykker. I havde aftalt på forhånd, at dele\n",
    "dem ved tilfældigt at trække 10 stykker hver. Tre af stykkerne er meget attraktive. Hvad er\n",
    "sandsynligheden for, at du får alle tre attraktive stykker?"
   ]
  },
  {
   "cell_type": "code",
   "execution_count": 74,
   "metadata": {
    "vscode": {
     "languageId": "r"
    }
   },
   "outputs": [
    {
     "data": {
      "text/html": [
       "0.105263157894737"
      ],
      "text/latex": [
       "0.105263157894737"
      ],
      "text/markdown": [
       "0.105263157894737"
      ],
      "text/plain": [
       "[1] 0.1052632"
      ]
     },
     "metadata": {},
     "output_type": "display_data"
    }
   ],
   "source": [
    "dhyper(3, m=3, n=20 - 3, k = 10)"
   ]
  },
  {
   "attachments": {},
   "cell_type": "markdown",
   "metadata": {},
   "source": [
    "Der er en 10.5% chance.\n",
    "\n",
    "Svar: **4**"
   ]
  },
  {
   "attachments": {},
   "cell_type": "markdown",
   "metadata": {},
   "source": [
    "#### **Spørgsmål VII.2 (18)**\n",
    "Lad X repræsentere vægten i gram af et nyt stykke rav, som du finder på dit foretrukne\n",
    "samlested. Fra erfaring ved du, at når du finder et stykke rav der, så følger dets vægt en\n",
    "log-normal distribution, således at X ∼ LN (1, 0.7^2 ).\n",
    "Hvad er gennemsnitsvægten µX af ravstykker på din favorit placering i henhold til denne model?"
   ]
  },
  {
   "attachments": {},
   "cell_type": "markdown",
   "metadata": {},
   "source": [
    "Bruger bogens formel (2-65)"
   ]
  },
  {
   "cell_type": "code",
   "execution_count": 76,
   "metadata": {
    "vscode": {
     "languageId": "r"
    }
   },
   "outputs": [
    {
     "data": {
      "text/html": [
       "3.47293479933683"
      ],
      "text/latex": [
       "3.47293479933683"
      ],
      "text/markdown": [
       "3.47293479933683"
      ],
      "text/plain": [
       "[1] 3.472935"
      ]
     },
     "metadata": {},
     "output_type": "display_data"
    }
   ],
   "source": [
    "exp(1 + 0.7^2/2)"
   ]
  },
  {
   "attachments": {},
   "cell_type": "markdown",
   "metadata": {},
   "source": [
    "Svar: **3**"
   ]
  },
  {
   "attachments": {},
   "cell_type": "markdown",
   "metadata": {},
   "source": [
    "#### **Spørgsmål VII.3 (19)**\n",
    "Baseret på oplysningerne i det sidste spørgsmål: Hvis du finder 20 stykker rav på dit foretrukne\n",
    "samlested, hvad er sandsynligheden for, at mindst 3 af dem vejer over 10 gram?"
   ]
  },
  {
   "cell_type": "code",
   "execution_count": 92,
   "metadata": {
    "vscode": {
     "languageId": "r"
    }
   },
   "outputs": [
    {
     "data": {
      "text/html": [
       "2.36323576452614"
      ],
      "text/latex": [
       "2.36323576452614"
      ],
      "text/markdown": [
       "2.36323576452614"
      ],
      "text/plain": [
       "[1] 2.363236"
      ]
     },
     "metadata": {},
     "output_type": "display_data"
    }
   ],
   "source": [
    "(1 - pbinom(2,20, 1 - plnorm(10,1,0.7))) * 100"
   ]
  },
  {
   "attachments": {},
   "cell_type": "markdown",
   "metadata": {},
   "source": [
    "Der er en 2.36% chance.\n",
    "\n",
    "Svar: **2**"
   ]
  },
  {
   "attachments": {},
   "cell_type": "markdown",
   "metadata": {},
   "source": [
    "# Opgave VIII"
   ]
  },
  {
   "attachments": {},
   "cell_type": "markdown",
   "metadata": {},
   "source": [
    "#### **Spørgsmål VIII.1 (20)**\n",
    "Stikprøvegennemsnittet er\n",
    "...\n",
    "\n",
    "Hvad er fordelingen af X̄ når n går mod uendeligt?"
   ]
  },
  {
   "attachments": {},
   "cell_type": "markdown",
   "metadata": {},
   "source": [
    "Normalfordelt. mu og sigma findes fra bogens sætning 2.36.\n",
    "\n",
    "Svar: **4**"
   ]
  },
  {
   "attachments": {},
   "cell_type": "markdown",
   "metadata": {},
   "source": [
    "#### **Spørgsmål VIII.2 (21)**\n",
    "1\n",
    "Definer Yi = 2 + 10\n",
    "Xi . Hvilket af følgende udsagn er korrekt?"
   ]
  },
  {
   "attachments": {},
   "cell_type": "markdown",
   "metadata": {},
   "source": [
    "Bruger bogens sætning 2.54:\n",
    "\n",
    "Y = a*X+b, then:\n",
    "V(Y) = V(a*X+b)=a^2V(X)\n",
    "\n",
    "Dermed (1/10)^2 V(X)\n",
    "\n",
    "Svar: **4**"
   ]
  },
  {
   "attachments": {},
   "cell_type": "markdown",
   "metadata": {},
   "source": [
    "# Opgave IX"
   ]
  },
  {
   "attachments": {},
   "cell_type": "markdown",
   "metadata": {},
   "source": [
    "#### **Spørgsmål IX.1 (22)**\n",
    "Lad µwinter være det gennemsnitlige opreguleringsvolume på vinterdage. Hvis man anvender\n",
    "et signifikansniveau α = 0.05, hvad bliver da konklusionen for følgende nulhypotese (både\n",
    "konklusion og argument skal være korrekte)?"
   ]
  },
  {
   "attachments": {},
   "cell_type": "markdown",
   "metadata": {},
   "source": [
    "Giver sig selv, at når mu_0 = 10 er inden for CI så skal den accepteres.\n",
    "\n",
    "Svar: **5**"
   ]
  },
  {
   "attachments": {},
   "cell_type": "markdown",
   "metadata": {},
   "source": [
    "#### **Spørgsmål IX.2 (23)**\n",
    "Hvad er 99% konfidensintervallet for µwinter ?"
   ]
  },
  {
   "attachments": {},
   "cell_type": "markdown",
   "metadata": {},
   "source": [
    "Finder først standard error. Kan findes da vi kender et CI, mean og df:"
   ]
  },
  {
   "cell_type": "code",
   "execution_count": 95,
   "metadata": {
    "vscode": {
     "languageId": "r"
    }
   },
   "outputs": [
    {
     "data": {
      "text/html": [
       "0.755418264107695"
      ],
      "text/latex": [
       "0.755418264107695"
      ],
      "text/markdown": [
       "0.755418264107695"
      ],
      "text/plain": [
       "[1] 0.7554183"
      ]
     },
     "metadata": {},
     "output_type": "display_data"
    }
   ],
   "source": [
    "# øvre 95% ci - mu / tobs\n",
    "(12.341 - 10.84 ) / qt(0.975, df=89)"
   ]
  },
  {
   "cell_type": "code",
   "execution_count": 105,
   "metadata": {
    "vscode": {
     "languageId": "r"
    }
   },
   "outputs": [
    {
     "data": {
      "text/html": [
       "<style>\n",
       ".list-inline {list-style: none; margin:0; padding: 0}\n",
       ".list-inline>li {display: inline-block}\n",
       ".list-inline>li:not(:last-child)::after {content: \"\\00b7\"; padding: 0 .5ex}\n",
       "</style>\n",
       "<ol class=list-inline><li>8.85158487910669</li><li>12.8284151208933</li></ol>\n"
      ],
      "text/latex": [
       "\\begin{enumerate*}\n",
       "\\item 8.85158487910669\n",
       "\\item 12.8284151208933\n",
       "\\end{enumerate*}\n"
      ],
      "text/markdown": [
       "1. 8.85158487910669\n",
       "2. 12.8284151208933\n",
       "\n",
       "\n"
      ],
      "text/plain": [
       "[1]  8.851585 12.828415"
      ]
     },
     "metadata": {},
     "output_type": "display_data"
    }
   ],
   "source": [
    "mu = 10.84\n",
    "df = 89\n",
    "se = 0.755418264107695\n",
    "mu + c(-1,1) * qt(1 - 0.01/2, df) * se"
   ]
  },
  {
   "attachments": {},
   "cell_type": "markdown",
   "metadata": {},
   "source": [
    "Løsningsforslag:\n",
    "\n",
    "Udregn 1/2 CI width og udled s ud fra denne."
   ]
  },
  {
   "cell_type": "code",
   "execution_count": 102,
   "metadata": {
    "vscode": {
     "languageId": "r"
    }
   },
   "outputs": [
    {
     "data": {
      "text/html": [
       "1.4975"
      ],
      "text/latex": [
       "1.4975"
      ],
      "text/markdown": [
       "1.4975"
      ],
      "text/plain": [
       "[1] 1.4975"
      ]
     },
     "metadata": {},
     "output_type": "display_data"
    },
    {
     "data": {
      "text/html": [
       "1.98697869950628"
      ],
      "text/latex": [
       "1.98697869950628"
      ],
      "text/markdown": [
       "1.98697869950628"
      ],
      "text/plain": [
       "[1] 1.986979"
      ]
     },
     "metadata": {},
     "output_type": "display_data"
    }
   ],
   "source": [
    "(12.341 - 9.346)/2 \n",
    "\n",
    "# tobs\n",
    "qt(0.975, df=89)"
   ]
  },
  {
   "cell_type": "code",
   "execution_count": 109,
   "metadata": {
    "vscode": {
     "languageId": "r"
    }
   },
   "outputs": [
    {
     "data": {
      "text/html": [
       "0.753656795803647"
      ],
      "text/latex": [
       "0.753656795803647"
      ],
      "text/markdown": [
       "0.753656795803647"
      ],
      "text/plain": [
       "[1] 0.7536568"
      ]
     },
     "metadata": {},
     "output_type": "display_data"
    }
   ],
   "source": [
    "# finding SE:\n",
    "# SE = s/sqrt(n)\n",
    "# s/sqrt(n) = 0.5 * CI_width / tobs\n",
    "1.4975 / 1.98697869950628"
   ]
  },
  {
   "attachments": {},
   "cell_type": "markdown",
   "metadata": {},
   "source": [
    "Vi får samme SE og regner dermed CI"
   ]
  },
  {
   "cell_type": "code",
   "execution_count": 110,
   "metadata": {
    "vscode": {
     "languageId": "r"
    }
   },
   "outputs": [
    {
     "data": {
      "text/html": [
       "<style>\n",
       ".list-inline {list-style: none; margin:0; padding: 0}\n",
       ".list-inline>li {display: inline-block}\n",
       ".list-inline>li:not(:last-child)::after {content: \"\\00b7\"; padding: 0 .5ex}\n",
       "</style>\n",
       "<ol class=list-inline><li>8.85622142335927</li><li>12.8237785766407</li></ol>\n"
      ],
      "text/latex": [
       "\\begin{enumerate*}\n",
       "\\item 8.85622142335927\n",
       "\\item 12.8237785766407\n",
       "\\end{enumerate*}\n"
      ],
      "text/markdown": [
       "1. 8.85622142335927\n",
       "2. 12.8237785766407\n",
       "\n",
       "\n"
      ],
      "text/plain": [
       "[1]  8.856221 12.823779"
      ]
     },
     "metadata": {},
     "output_type": "display_data"
    }
   ],
   "source": [
    "mu = 10.84\n",
    "df = 89\n",
    "se = 0.753656795803647\n",
    "mu + c(-1,1) * qt(1 - 0.01/2, df) * se"
   ]
  },
  {
   "attachments": {},
   "cell_type": "markdown",
   "metadata": {},
   "source": [
    "Svar: **4**"
   ]
  },
  {
   "attachments": {},
   "cell_type": "markdown",
   "metadata": {},
   "source": [
    "#### **Spørgsmål IX.3 (24)**\n",
    "Hvad er antallet af observationer i xwinter?"
   ]
  },
  {
   "attachments": {},
   "cell_type": "markdown",
   "metadata": {},
   "source": [
    "udledes ud fra df idet n = df - 1"
   ]
  },
  {
   "cell_type": "code",
   "execution_count": 111,
   "metadata": {
    "vscode": {
     "languageId": "r"
    }
   },
   "outputs": [
    {
     "data": {
      "text/html": [
       "90"
      ],
      "text/latex": [
       "90"
      ],
      "text/markdown": [
       "90"
      ],
      "text/plain": [
       "[1] 90"
      ]
     },
     "metadata": {},
     "output_type": "display_data"
    }
   ],
   "source": [
    "df = 89\n",
    "(n = df + 1)"
   ]
  },
  {
   "attachments": {},
   "cell_type": "markdown",
   "metadata": {},
   "source": [
    "Svar: **3**"
   ]
  },
  {
   "attachments": {},
   "cell_type": "markdown",
   "metadata": {},
   "source": [
    "#### **Spørgsmål IX.4 (25)**\n",
    "For at finde ud af, om der er forskel mellem vinter og sommer, indlæses de daglige gennemsnit\n",
    "af opreguleringsvolume for sommermånederne det samme år i xsummer.\n",
    "Baseret på de givne data her i opgaven, hvilken af følgende tests er bedst egnet til at konkludere,\n",
    "om der er en signifikant forskel mellem den daglige middelværdi af opreguleringsvolume om\n",
    "vinteren og om sommeren?"
   ]
  },
  {
   "attachments": {},
   "cell_type": "markdown",
   "metadata": {},
   "source": [
    "Giver mening at udføre en two-sample t-test. Sommer og vinter er hver deres tid, så de er ikke udført samtidig og kan derfor ikke være en paired test.\n",
    "\n",
    "Svar: **1**"
   ]
  },
  {
   "attachments": {},
   "cell_type": "markdown",
   "metadata": {},
   "source": [
    "# Opgave X"
   ]
  },
  {
   "attachments": {},
   "cell_type": "markdown",
   "metadata": {},
   "source": [
    "#### **Spørgsmål X.1 (26)**\n",
    "Ved et signifikansniveau på 5%, hvad er da den kritiske værdi for F -testen for ens middelværdi\n",
    "på ugedagene?"
   ]
  },
  {
   "attachments": {},
   "cell_type": "markdown",
   "metadata": {},
   "source": [
    "Bruger qf() da det er kritisk værdi for en F test."
   ]
  },
  {
   "cell_type": "code",
   "execution_count": 116,
   "metadata": {
    "vscode": {
     "languageId": "r"
    }
   },
   "outputs": [
    {
     "data": {
      "text/html": [
       "2.12399387975559"
      ],
      "text/latex": [
       "2.12399387975559"
      ],
      "text/markdown": [
       "2.12399387975559"
      ],
      "text/plain": [
       "[1] 2.123994"
      ]
     },
     "metadata": {},
     "output_type": "display_data"
    }
   ],
   "source": [
    "qf(0.95, 6, 357)"
   ]
  },
  {
   "attachments": {},
   "cell_type": "markdown",
   "metadata": {},
   "source": [
    "Svar: **4**"
   ]
  },
  {
   "attachments": {},
   "cell_type": "markdown",
   "metadata": {},
   "source": [
    "#### **Spørgsmål X.2 (27)**\n",
    "Under antagelse af, at alle forudsætninger for den anvendte model er opfyldt, hvad er da esti-\n",
    "matet af variansen af den daglige nedreguleringspris på fredage (både værdien og forklaringen\n",
    "skal være korrekt)?"
   ]
  },
  {
   "cell_type": "markdown",
   "metadata": {},
   "source": []
  }
 ],
 "metadata": {
  "kernelspec": {
   "display_name": "R",
   "language": "R",
   "name": "ir"
  },
  "language_info": {
   "codemirror_mode": "r",
   "file_extension": ".r",
   "mimetype": "text/x-r-source",
   "name": "R",
   "pygments_lexer": "r",
   "version": "4.2.2"
  },
  "orig_nbformat": 4
 },
 "nbformat": 4,
 "nbformat_minor": 2
}
