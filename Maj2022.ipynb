{
 "cells": [
  {
   "attachments": {},
   "cell_type": "markdown",
   "metadata": {},
   "source": [
    "Reset envorionment"
   ]
  },
  {
   "cell_type": "code",
   "execution_count": 91,
   "metadata": {
    "vscode": {
     "languageId": "r"
    }
   },
   "outputs": [],
   "source": [
    "rm(list=ls())"
   ]
  },
  {
   "attachments": {},
   "cell_type": "markdown",
   "metadata": {},
   "source": [
    "## Opgave I"
   ]
  },
  {
   "attachments": {},
   "cell_type": "markdown",
   "metadata": {},
   "source": [
    "### **Spørgsmål I.1 (1)**\n",
    "\n",
    "Hvad er sandsynligheden for ikke at finde nogle defekte varer?\n",
    "Antager at fordeling følger en binorm fordeling."
   ]
  },
  {
   "cell_type": "code",
   "execution_count": 92,
   "metadata": {
    "vscode": {
     "languageId": "r"
    }
   },
   "outputs": [
    {
     "data": {
      "text/html": [
       "0.737424126894928"
      ],
      "text/latex": [
       "0.737424126894928"
      ],
      "text/markdown": [
       "0.737424126894928"
      ],
      "text/plain": [
       "[1] 0.7374241"
      ]
     },
     "metadata": {},
     "output_type": "display_data"
    }
   ],
   "source": [
    "pbinom(0,10,0.03)\n",
    "pbinom(0,5,0.94)"
   ]
  },
  {
   "attachments": {},
   "cell_type": "markdown",
   "metadata": {},
   "source": [
    "Der er en 73% chance for ikke at finde fejl. \n",
    "\n",
    "Svar: **4**"
   ]
  },
  {
   "attachments": {},
   "cell_type": "markdown",
   "metadata": {},
   "source": [
    "### **Spørgsmål I.2 (2)**\n",
    "\n",
    "Hvad er antallet af defekter, hvor der er 98% eller højere sandsynlighed for, at opnå dette antal\n",
    "eller færre defekter i eksperimentet?\n",
    "\n",
    "Vælger at teste alle svarmuligheder:"
   ]
  },
  {
   "cell_type": "code",
   "execution_count": 93,
   "metadata": {
    "vscode": {
     "languageId": "r"
    }
   },
   "outputs": [
    {
     "data": {
      "text/html": [
       "0.737424126894928"
      ],
      "text/latex": [
       "0.737424126894928"
      ],
      "text/markdown": [
       "0.737424126894928"
      ],
      "text/plain": [
       "[1] 0.7374241"
      ]
     },
     "metadata": {},
     "output_type": "display_data"
    },
    {
     "data": {
      "text/html": [
       "0.965493444491298"
      ],
      "text/latex": [
       "0.965493444491298"
      ],
      "text/markdown": [
       "0.965493444491298"
      ],
      "text/plain": [
       "[1] 0.9654934"
      ]
     },
     "metadata": {},
     "output_type": "display_data"
    },
    {
     "data": {
      "text/html": [
       "0.997235050548525"
      ],
      "text/latex": [
       "0.997235050548525"
      ],
      "text/markdown": [
       "0.997235050548525"
      ],
      "text/plain": [
       "[1] 0.9972351"
      ]
     },
     "metadata": {},
     "output_type": "display_data"
    },
    {
     "data": {
      "text/html": [
       "0.999999862047334"
      ],
      "text/latex": [
       "0.999999862047334"
      ],
      "text/markdown": [
       "0.999999862047334"
      ],
      "text/plain": [
       "[1] 0.9999999"
      ]
     },
     "metadata": {},
     "output_type": "display_data"
    },
    {
     "data": {
      "text/html": [
       "0.999999999999808"
      ],
      "text/latex": [
       "0.999999999999808"
      ],
      "text/markdown": [
       "0.999999999999808"
      ],
      "text/plain": [
       "[1] 1"
      ]
     },
     "metadata": {},
     "output_type": "display_data"
    }
   ],
   "source": [
    "pbinom(0,10,0.03)\n",
    "pbinom(1,10,0.03)\n",
    "pbinom(2,10,0.03)\n",
    "pbinom(5,10,0.03)\n",
    "pbinom(8,10,0.03)"
   ]
  },
  {
   "attachments": {},
   "cell_type": "markdown",
   "metadata": {},
   "source": [
    "Der skal mindst to defekter til for at opnå 98% sandsynlighed.\n",
    "\n",
    "Svar: **2**"
   ]
  },
  {
   "attachments": {},
   "cell_type": "markdown",
   "metadata": {},
   "source": [
    "### **Spørgsmål I.3 (3)** \n",
    "\n",
    "Hvilket af følgende udtryk beregner variansen?"
   ]
  },
  {
   "attachments": {},
   "cell_type": "markdown",
   "metadata": {},
   "source": [
    "## Opgave II"
   ]
  },
  {
   "attachments": {},
   "cell_type": "markdown",
   "metadata": {},
   "source": [
    "### **Spørgsmål II.1 (4)** \n",
    "\n"
   ]
  },
  {
   "attachments": {},
   "cell_type": "markdown",
   "metadata": {},
   "source": [
    "### **Spørgsmål II.2 (5)** \n",
    "\n"
   ]
  },
  {
   "attachments": {},
   "cell_type": "markdown",
   "metadata": {},
   "source": [
    "## Opgave III"
   ]
  },
  {
   "attachments": {},
   "cell_type": "markdown",
   "metadata": {},
   "source": [
    "### **Spørgsmål III.1 (6)** \n",
    "\n",
    "Hvis vi antager, at de sande standardafvigelser for de to metoder er ens, hvad er da estimatet\n",
    "af den samlede (poolede) standardafvigelse?"
   ]
  },
  {
   "attachments": {},
   "cell_type": "markdown",
   "metadata": {},
   "source": [
    "Vil finde den poolede standardafvigelse ved først at regne den poolede varians. Herefter tager jeg kvadratroden for at finde std. afvigelsen. Se bogens s. 102"
   ]
  },
  {
   "cell_type": "code",
   "execution_count": 94,
   "metadata": {
    "vscode": {
     "languageId": "r"
    }
   },
   "outputs": [
    {
     "data": {
      "text/html": [
       "3.4532593299664"
      ],
      "text/latex": [
       "3.4532593299664"
      ],
      "text/markdown": [
       "3.4532593299664"
      ],
      "text/plain": [
       "[1] 3.453259"
      ]
     },
     "metadata": {},
     "output_type": "display_data"
    }
   ],
   "source": [
    "sigma = ((10 - 1) * 3.6^2 + (10 - 1) * 3.3^2) / (10 + 10 - 2)\n",
    "sqrt(sigma)"
   ]
  },
  {
   "attachments": {},
   "cell_type": "markdown",
   "metadata": {},
   "source": [
    "Jeg undersøger nu samtlige løsningsforslag:"
   ]
  },
  {
   "cell_type": "code",
   "execution_count": 95,
   "metadata": {
    "vscode": {
     "languageId": "r"
    }
   },
   "outputs": [
    {
     "data": {
      "text/html": [
       "3.45"
      ],
      "text/latex": [
       "3.45"
      ],
      "text/markdown": [
       "3.45"
      ],
      "text/plain": [
       "[1] 3.45"
      ]
     },
     "metadata": {},
     "output_type": "display_data"
    },
    {
     "data": {
      "text/html": [
       "3.4532593299664"
      ],
      "text/latex": [
       "3.4532593299664"
      ],
      "text/markdown": [
       "3.4532593299664"
      ],
      "text/plain": [
       "[1] 3.453259"
      ]
     },
     "metadata": {},
     "output_type": "display_data"
    },
    {
     "data": {
      "text/html": [
       "11.925"
      ],
      "text/latex": [
       "11.925"
      ],
      "text/markdown": [
       "11.925"
      ],
      "text/plain": [
       "[1] 11.925"
      ]
     },
     "metadata": {},
     "output_type": "display_data"
    },
    {
     "data": {
      "text/html": [
       "1.85741756210067"
      ],
      "text/latex": [
       "1.85741756210067"
      ],
      "text/markdown": [
       "1.85741756210067"
      ],
      "text/plain": [
       "[1] 1.857418"
      ]
     },
     "metadata": {},
     "output_type": "display_data"
    }
   ],
   "source": [
    "(3.6+3.3)/2\n",
    "sqrt((3.6^2+3.3^2)/2)\n",
    "(3.6^2+3.3^2)/2\n",
    "sqrt((3.6+3.3)/2)"
   ]
  },
  {
   "attachments": {},
   "cell_type": "markdown",
   "metadata": {},
   "source": [
    "Svar: **2**"
   ]
  },
  {
   "attachments": {},
   "cell_type": "markdown",
   "metadata": {},
   "source": [
    "### **Spørgsmål III.2 (7)** \n",
    "\n",
    "Hvilket udsagn er korrekt (begge dele af udsagnet skal være korrekt)?"
   ]
  },
  {
   "attachments": {},
   "cell_type": "markdown",
   "metadata": {},
   "source": [
    "Nogle kloge ord her."
   ]
  },
  {
   "attachments": {},
   "cell_type": "markdown",
   "metadata": {},
   "source": [
    "### **Spørgsmål III.3 (8)** \n",
    "\n",
    "Hvad er det mindste antal observationer, man skal tage fra hver gruppe for at opfylde ovenstående\n",
    "krav?"
   ]
  },
  {
   "attachments": {},
   "cell_type": "markdown",
   "metadata": {},
   "source": [
    "Man kan enten estimere det i hånden eller lade R om det. Vi forsøger med R:"
   ]
  },
  {
   "cell_type": "code",
   "execution_count": 96,
   "metadata": {
    "vscode": {
     "languageId": "r"
    }
   },
   "outputs": [
    {
     "data": {
      "text/plain": [
       "\n",
       "     Two-sample t test power calculation \n",
       "\n",
       "              n = 29.15117\n",
       "          delta = 5\n",
       "             sd = 4\n",
       "      sig.level = 0.01\n",
       "          power = 0.98\n",
       "    alternative = two.sided\n",
       "\n",
       "NOTE: n is number in *each* group\n"
      ]
     },
     "metadata": {},
     "output_type": "display_data"
    }
   ],
   "source": [
    "power.t.test(power=0.98, delta=5, sd=sqrt(16), sig.level=0.01, type=\"two.sample\")"
   ]
  },
  {
   "attachments": {},
   "cell_type": "markdown",
   "metadata": {},
   "source": [
    "Læg mærke til at vi skal bruge standard-afvigelsen, derfor tager vi sqrt() af variansen, 16. Husk at vi her har med en two sample test at gøre.\n",
    "Fra outputtet skal vi bruge mindst 30 observationer."
   ]
  },
  {
   "attachments": {},
   "cell_type": "markdown",
   "metadata": {},
   "source": [
    "Svar: **3**"
   ]
  },
  {
   "attachments": {},
   "cell_type": "markdown",
   "metadata": {},
   "source": [
    "## Opgave IV"
   ]
  },
  {
   "attachments": {},
   "cell_type": "markdown",
   "metadata": {},
   "source": [
    "### **Spørgsmål IV.1 (9)** \n",
    "\n",
    "Hvis komponenternes gennemsnitlige levetid er 3 år, hvilken af følgende R-koder beregner sand-\n",
    "synligheden for, at en tilfældigt udvalgt komponent holder længere end et år?"
   ]
  },
  {
   "attachments": {},
   "cell_type": "markdown",
   "metadata": {},
   "source": [
    "forklarende tekst"
   ]
  },
  {
   "cell_type": "code",
   "execution_count": 97,
   "metadata": {
    "vscode": {
     "languageId": "r"
    }
   },
   "outputs": [
    {
     "ename": "ERROR",
     "evalue": "Error in eval(expr, envir, enclos): object 'code' not found\n",
     "output_type": "error",
     "traceback": [
      "Error in eval(expr, envir, enclos): object 'code' not found\nTraceback:\n"
     ]
    }
   ],
   "source": [
    "code"
   ]
  },
  {
   "attachments": {},
   "cell_type": "markdown",
   "metadata": {},
   "source": [
    "### **Spørgsmål IV.2 (10)** \n",
    "\n",
    "Hvad er antallet af observationer i stikprøven?"
   ]
  },
  {
   "attachments": {},
   "cell_type": "markdown",
   "metadata": {},
   "source": [
    "idk hvordan vi skal afgøre det ud fra opgaven alene."
   ]
  },
  {
   "attachments": {},
   "cell_type": "markdown",
   "metadata": {},
   "source": [
    "### **Spørgsmål IV.3 (11)** \n",
    "\n",
    "Baseret på denne analyse, hvad er konklusionen på en test af nulhypotesen"
   ]
  },
  {
   "attachments": {},
   "cell_type": "markdown",
   "metadata": {},
   "source": [
    "Blank"
   ]
  },
  {
   "attachments": {},
   "cell_type": "markdown",
   "metadata": {},
   "source": [
    "## Opgave V"
   ]
  },
  {
   "attachments": {},
   "cell_type": "markdown",
   "metadata": {},
   "source": [
    "### **Spørgsmål V.1 (12)** \n",
    "\n",
    "eregnet med simulering, hvad er standardafvigelsen ... hvor X1 og X2 er uafhængige og begge følger en standard normalfordeling?"
   ]
  },
  {
   "attachments": {},
   "cell_type": "markdown",
   "metadata": {},
   "source": [
    "Vi bruger lidt simulation."
   ]
  },
  {
   "cell_type": "code",
   "execution_count": null,
   "metadata": {
    "vscode": {
     "languageId": "r"
    }
   },
   "outputs": [
    {
     "data": {
      "text/html": [
       "10.0140711160967"
      ],
      "text/latex": [
       "10.0140711160967"
      ],
      "text/markdown": [
       "10.0140711160967"
      ],
      "text/plain": [
       "[1] 10.01407"
      ]
     },
     "metadata": {},
     "output_type": "display_data"
    }
   ],
   "source": [
    "x <- 1000000\n",
    "x1 <- rnorm(x,0,1)\n",
    "x2 <- rnorm(x,0,1)\n",
    "Y  <- exp(x1) + x2^4 + x1*x2\n",
    "sd(Y)"
   ]
  },
  {
   "attachments": {},
   "cell_type": "markdown",
   "metadata": {},
   "source": [
    "Svar: **2**"
   ]
  },
  {
   "attachments": {},
   "cell_type": "markdown",
   "metadata": {},
   "source": [
    "### **Spørgsmål V.2 (13)**"
   ]
  },
  {
   "cell_type": "markdown",
   "metadata": {},
   "source": []
  },
  {
   "attachments": {},
   "cell_type": "markdown",
   "metadata": {},
   "source": [
    "Bruger metode 4.3\n",
    "\n",
    "![title](img/m43.png)"
   ]
  },
  {
   "attachments": {},
   "cell_type": "markdown",
   "metadata": {},
   "source": [
    "diff ift x først af X1:\n",
    "3x_1 ^2\n",
    "\n",
    "diff ift x af X2:\n",
    "5\n",
    "\n",
    "Indsættelse i (4-2):\n",
    "\n",
    "(3*x_i)^2 * $\\sigma$\\_1^2 + (5)^2 * $\\sigma$\\_2 ^2"
   ]
  },
  {
   "attachments": {},
   "cell_type": "markdown",
   "metadata": {},
   "source": [
    "Svar: **3**"
   ]
  },
  {
   "attachments": {},
   "cell_type": "markdown",
   "metadata": {},
   "source": [
    "## Opgave VI"
   ]
  },
  {
   "attachments": {},
   "cell_type": "markdown",
   "metadata": {},
   "source": [
    "### **Spørgsmål VI.1 (14)**\n",
    "\n",
    "Hvad er estimatet af \\beta_1?"
   ]
  },
  {
   "cell_type": "code",
   "execution_count": null,
   "metadata": {
    "vscode": {
     "languageId": "r"
    }
   },
   "outputs": [
    {
     "data": {
      "text/plain": [
       "\n",
       "Call:\n",
       "lm(formula = y ~ x)\n",
       "\n",
       "Residuals:\n",
       "    Min      1Q  Median      3Q     Max \n",
       "-442.16 -120.98   42.65  122.27  277.84 \n",
       "\n",
       "Coefficients:\n",
       "            Estimate Std. Error t value Pr(>|t|)    \n",
       "(Intercept)    49.19     106.69   0.461    0.655    \n",
       "x             504.33      17.62  28.624  6.3e-11 ***\n",
       "---\n",
       "Signif. codes:  0 ‘***’ 0.001 ‘**’ 0.01 ‘*’ 0.05 ‘.’ 0.1 ‘ ’ 1\n",
       "\n",
       "Residual standard error: 208.5 on 10 degrees of freedom\n",
       "Multiple R-squared:  0.9879,\tAdjusted R-squared:  0.9867 \n",
       "F-statistic: 819.3 on 1 and 10 DF,  p-value: 6.304e-11\n"
      ]
     },
     "metadata": {},
     "output_type": "display_data"
    }
   ],
   "source": [
    "# Mangankoncentrationer\n",
    "x <- c(0, 0, 2, 2, 4, 4, 6, 6, 8, 8, 10, 10)\n",
    "# ICP-AES værdier\n",
    "y <- c(114, 14, 870, 1141, 2087, 2212, 3353, 2633, 3970, 4299, 4950, 5207)\n",
    "# Estimer multipel lineær regressionsmodel\n",
    "fit <- lm(y ~ x)\n",
    "\n",
    "# Vis estimerede parametre mm.\n",
    "summary(fit)"
   ]
  },
  {
   "attachments": {},
   "cell_type": "markdown",
   "metadata": {},
   "source": [
    "Fra outputtet ser vi at Estimate for x (beta_1) er 504.33.\n",
    "\n",
    "Svar: **2**"
   ]
  },
  {
   "attachments": {},
   "cell_type": "markdown",
   "metadata": {},
   "source": [
    "### **Spørgsmål VI.2 (15)**\n",
    "\n",
    "Hvad er 95% prædiktionsintervallet ved denne koncentration?"
   ]
  },
  {
   "attachments": {},
   "cell_type": "markdown",
   "metadata": {},
   "source": [
    "Indsætter en prædiktion i modellen."
   ]
  },
  {
   "cell_type": "code",
   "execution_count": null,
   "metadata": {
    "vscode": {
     "languageId": "r"
    }
   },
   "outputs": [
    {
     "data": {
      "text/html": [
       "<table class=\"dataframe\">\n",
       "<caption>A matrix: 1 × 3 of type dbl</caption>\n",
       "<thead>\n",
       "\t<tr><th></th><th scope=col>fit</th><th scope=col>lwr</th><th scope=col>upr</th></tr>\n",
       "</thead>\n",
       "<tbody>\n",
       "\t<tr><th scope=row>1</th><td>2570.833</td><td>2087.363</td><td>3054.303</td></tr>\n",
       "</tbody>\n",
       "</table>\n"
      ],
      "text/latex": [
       "A matrix: 1 × 3 of type dbl\n",
       "\\begin{tabular}{r|lll}\n",
       "  & fit & lwr & upr\\\\\n",
       "\\hline\n",
       "\t1 & 2570.833 & 2087.363 & 3054.303\\\\\n",
       "\\end{tabular}\n"
      ],
      "text/markdown": [
       "\n",
       "A matrix: 1 × 3 of type dbl\n",
       "\n",
       "| <!--/--> | fit | lwr | upr |\n",
       "|---|---|---|---|\n",
       "| 1 | 2570.833 | 2087.363 | 3054.303 |\n",
       "\n"
      ],
      "text/plain": [
       "  fit      lwr      upr     \n",
       "1 2570.833 2087.363 3054.303"
      ]
     },
     "metadata": {},
     "output_type": "display_data"
    }
   ],
   "source": [
    "predict(fit, newdata=data.frame(x=5), interval=\"prediction\", level=0.95)"
   ]
  },
  {
   "attachments": {},
   "cell_type": "markdown",
   "metadata": {},
   "source": [
    "**NOTE!** Husk at angive newdata som en data.frame\n",
    "\n",
    "Svar: **1**"
   ]
  },
  {
   "attachments": {},
   "cell_type": "markdown",
   "metadata": {},
   "source": [
    "### **Spørgsmål VI.3 (16)**\n",
    "\n",
    "Hvad er 95% prædiktionsintervallet ved denne koncentration?"
   ]
  },
  {
   "attachments": {},
   "cell_type": "markdown",
   "metadata": {},
   "source": [
    "### **Spørgsmål VI.4 (17)**\n",
    "\n",
    "Hvilket af følgende udsagn er den korrekte fortolkning af disse to plots?"
   ]
  },
  {
   "attachments": {},
   "cell_type": "markdown",
   "metadata": {},
   "source": [
    "qq plottet er flot lineært. Residualplottet er dog ikke tilfældigt fordelt, som det ellers burde være.\n",
    "\n",
    "Svar: **2**"
   ]
  },
  {
   "attachments": {},
   "cell_type": "markdown",
   "metadata": {},
   "source": [
    "### **Spørgsmål VI.5 (18)**\n",
    "\n",
    "Hvilket af de følgende udsagn er korrekt, givet et signifikansniveau på α = 1%?"
   ]
  },
  {
   "attachments": {},
   "cell_type": "markdown",
   "metadata": {},
   "source": [
    "Mulighed 2 og 3 er forkerte, idet en 1ppb ville forøge med:"
   ]
  },
  {
   "cell_type": "code",
   "execution_count": null,
   "metadata": {
    "vscode": {
     "languageId": "r"
    }
   },
   "outputs": [
    {
     "data": {
      "text/html": [
       "560.6095"
      ],
      "text/latex": [
       "560.6095"
      ],
      "text/markdown": [
       "560.6095"
      ],
      "text/plain": [
       "[1] 560.6095"
      ]
     },
     "metadata": {},
     "output_type": "display_data"
    }
   ],
   "source": [
    "12.6469 + 553.4783 * 1 - 5.5157 * 1^2"
   ]
  },
  {
   "attachments": {},
   "cell_type": "markdown",
   "metadata": {},
   "source": [
    "Mulighed 4 giver ikke mening."
   ]
  },
  {
   "attachments": {},
   "cell_type": "markdown",
   "metadata": {},
   "source": [
    "Svar: **5**"
   ]
  },
  {
   "attachments": {},
   "cell_type": "markdown",
   "metadata": {},
   "source": [
    "## Opgave VII"
   ]
  },
  {
   "attachments": {},
   "cell_type": "markdown",
   "metadata": {},
   "source": [
    "### **Spørgsmål VII.1 (19)**\n",
    "\n",
    "Hvilket af de følgende udsagn er korrekt, givet et signifikansniveau på α = 1%?"
   ]
  },
  {
   "attachments": {},
   "cell_type": "markdown",
   "metadata": {},
   "source": [
    "No bueno. Løsningsforslag:\n",
    "\n",
    "Under the null hypothesis the p3,1 = p3,2, so the best estimate for them is the total proportion in that row, hence ˆp3 = 42/124. And since we have 59 in the column ’after’, then: 59 * 43 / 124"
   ]
  },
  {
   "attachments": {},
   "cell_type": "markdown",
   "metadata": {},
   "source": [
    "Svar: **4**"
   ]
  },
  {
   "attachments": {},
   "cell_type": "markdown",
   "metadata": {},
   "source": [
    "### **Spørgsmål VII.2 (20)**\n",
    "\n",
    "Hvad er den korrekte konklusion om nulhypotesen når der testes på signifikansniveau α = 0.05?"
   ]
  },
  {
   "attachments": {},
   "cell_type": "markdown",
   "metadata": {},
   "source": [
    "Nulhypotesen accepteres idet p værdien er over signifikantsniveauet.\n",
    "\n",
    "Svar: **3**"
   ]
  },
  {
   "attachments": {},
   "cell_type": "markdown",
   "metadata": {},
   "source": [
    "### **Spørgsmål VII.3 (21)**\n",
    "\n",
    "Hvad er det kritiske niveau, dvs. en χ2 -fraktil, for test af nulhypotesen på signifikansniveau α = 0.01?"
   ]
  },
  {
   "cell_type": "code",
   "execution_count": null,
   "metadata": {
    "vscode": {
     "languageId": "r"
    }
   },
   "outputs": [
    {
     "data": {
      "text/html": [
       "9.21034037197618"
      ],
      "text/latex": [
       "9.21034037197618"
      ],
      "text/markdown": [
       "9.21034037197618"
      ],
      "text/plain": [
       "[1] 9.21034"
      ]
     },
     "metadata": {},
     "output_type": "display_data"
    }
   ],
   "source": [
    "qchisq(p=1 - 0.01, df=(3-1)*(2-1))"
   ]
  },
  {
   "attachments": {},
   "cell_type": "markdown",
   "metadata": {},
   "source": [
    "Svar: **1**"
   ]
  },
  {
   "attachments": {},
   "cell_type": "markdown",
   "metadata": {},
   "source": [
    "## Opgave VIII"
   ]
  },
  {
   "attachments": {},
   "cell_type": "markdown",
   "metadata": {},
   "source": [
    "### **Spørgsmål VIII.1 (22)**\n",
    "Hvilket af følgende udsagn er korrekt, når man anvender signifikansniveau α = 0.05 (både\n",
    "argument og konklusion skal være korrekt)?"
   ]
  },
  {
   "cell_type": "code",
   "execution_count": null,
   "metadata": {
    "vscode": {
     "languageId": "r"
    }
   },
   "outputs": [
    {
     "data": {
      "text/html": [
       "<style>\n",
       ".list-inline {list-style: none; margin:0; padding: 0}\n",
       ".list-inline>li {display: inline-block}\n",
       ".list-inline>li:not(:last-child)::after {content: \"\\00b7\"; padding: 0 .5ex}\n",
       "</style>\n",
       "<ol class=list-inline><li>18.8755428616131</li><li>24.1244571383869</li></ol>\n"
      ],
      "text/latex": [
       "\\begin{enumerate*}\n",
       "\\item 18.8755428616131\n",
       "\\item 24.1244571383869\n",
       "\\end{enumerate*}\n"
      ],
      "text/markdown": [
       "1. 18.8755428616131\n",
       "2. 24.1244571383869\n",
       "\n",
       "\n"
      ],
      "text/plain": [
       "[1] 18.87554 24.12446"
      ]
     },
     "metadata": {},
     "output_type": "display_data"
    }
   ],
   "source": [
    "#   mu ± var/sqrt(n)  * qt(1 - alpha, df = n - 1)\n",
    "c(21.5 - 9.8/sqrt(56) * qt(0.975,df=55),\n",
    "  21.5 + 9.8/sqrt(56) * qt(0.975,df=55))"
   ]
  },
  {
   "attachments": {},
   "cell_type": "markdown",
   "metadata": {},
   "source": [
    "23 ligger i 95% intervallet derfor kan udsagnes underbygges.\n",
    "\n",
    "Svar: **1**"
   ]
  },
  {
   "attachments": {},
   "cell_type": "markdown",
   "metadata": {},
   "source": [
    "### **Spørgsmål VIII.2 (23)\n",
    "Hvad er værdien af teststatistikken som bruges til at teste hypotesen?"
   ]
  },
  {
   "cell_type": "code",
   "execution_count": null,
   "metadata": {
    "vscode": {
     "languageId": "r"
    }
   },
   "outputs": [
    {
     "data": {
      "text/html": [
       "-1.14540532248182"
      ],
      "text/latex": [
       "-1.14540532248182"
      ],
      "text/markdown": [
       "-1.14540532248182"
      ],
      "text/plain": [
       "[1] -1.145405"
      ]
     },
     "metadata": {},
     "output_type": "display_data"
    }
   ],
   "source": [
    "(21.5 - 23) / (9.8 / sqrt(56))"
   ]
  },
  {
   "attachments": {},
   "cell_type": "markdown",
   "metadata": {},
   "source": [
    "tobs er udregnet til -1.145. \n",
    "\n",
    "Svar: **3**"
   ]
  },
  {
   "attachments": {},
   "cell_type": "markdown",
   "metadata": {},
   "source": [
    "## Opgave IX"
   ]
  },
  {
   "attachments": {},
   "cell_type": "markdown",
   "metadata": {},
   "source": [
    "### **Spørgsmål IX.1 (24)**\n",
    "Hvad er sandsynligheden for, at der er to eller flere besøgende på hjemmesiden i en tilfældigt udvalgt periode på et minut?"
   ]
  },
  {
   "attachments": {},
   "cell_type": "markdown",
   "metadata": {},
   "source": [
    "Bruger Poisson distribution (number of events per interval). \n",
    "Bruger dermed ppois og undersøger sandsynligheden for at finde flere end 1 -> altså 2 eller højere"
   ]
  },
  {
   "attachments": {},
   "cell_type": "markdown",
   "metadata": {},
   "source": [
    "lambda er lig 7, idet der er 7 besøgende per minut."
   ]
  },
  {
   "cell_type": "code",
   "execution_count": null,
   "metadata": {
    "vscode": {
     "languageId": "r"
    }
   },
   "outputs": [
    {
     "data": {
      "text/html": [
       "0.992704944275564"
      ],
      "text/latex": [
       "0.992704944275564"
      ],
      "text/markdown": [
       "0.992704944275564"
      ],
      "text/plain": [
       "[1] 0.9927049"
      ]
     },
     "metadata": {},
     "output_type": "display_data"
    }
   ],
   "source": [
    "1 - ppois(1, lambda=7)"
   ]
  },
  {
   "attachments": {},
   "cell_type": "markdown",
   "metadata": {},
   "source": [
    "Svar: **5**"
   ]
  },
  {
   "attachments": {},
   "cell_type": "markdown",
   "metadata": {},
   "source": [
    "### **Spørgsmål IX.2 (25)**\n",
    "Hvad er sandsynligheden for, at der ikke er besøgende i en tilfældigt udvalgt periode på 30 sekunder?"
   ]
  },
  {
   "attachments": {},
   "cell_type": "markdown",
   "metadata": {},
   "source": [
    "lambda er nu 7/2, idet vores interval er 30 sekunder. Undersøger det tilfælde hvor der kun er 0."
   ]
  },
  {
   "cell_type": "code",
   "execution_count": null,
   "metadata": {
    "vscode": {
     "languageId": "r"
    }
   },
   "outputs": [
    {
     "data": {
      "text/html": [
       "0.0301973834223185"
      ],
      "text/latex": [
       "0.0301973834223185"
      ],
      "text/markdown": [
       "0.0301973834223185"
      ],
      "text/plain": [
       "[1] 0.03019738"
      ]
     },
     "metadata": {},
     "output_type": "display_data"
    }
   ],
   "source": [
    "ppois(0, lambda=7/2)"
   ]
  },
  {
   "attachments": {},
   "cell_type": "markdown",
   "metadata": {},
   "source": [
    "Svar: **1**"
   ]
  },
  {
   "attachments": {},
   "cell_type": "markdown",
   "metadata": {},
   "source": [
    "## Opgave X"
   ]
  },
  {
   "attachments": {},
   "cell_type": "markdown",
   "metadata": {},
   "source": [
    "### **Spørgsmål X.1 (26)**\n",
    "Hvad er total sum of squares (SST), treatment\n",
    "sum of squares (SS(Tr)) og sum of squared errors (SSE)?"
   ]
  },
  {
   "attachments": {},
   "cell_type": "markdown",
   "metadata": {},
   "source": [
    "Idet SST = SS(Tr) + SSE kan svarmulighed 1 og 2 udelukkes. \n",
    "Vi kan regne SS(Tr) ud fra oplysningerne givet i opgaven:"
   ]
  },
  {
   "cell_type": "code",
   "execution_count": null,
   "metadata": {
    "vscode": {
     "languageId": "r"
    }
   },
   "outputs": [
    {
     "data": {
      "text/html": [
       "1.0248"
      ],
      "text/latex": [
       "1.0248"
      ],
      "text/markdown": [
       "1.0248"
      ],
      "text/plain": [
       "[1] 1.0248"
      ]
     },
     "metadata": {},
     "output_type": "display_data"
    }
   ],
   "source": [
    "SSTr = 4*(2.01 - 2.17)^2 + 4*(2.58-2.17)^2 + 4*(1.92 - 2.17)^2\n",
    "SSTr"
   ]
  },
  {
   "attachments": {},
   "cell_type": "markdown",
   "metadata": {},
   "source": [
    "SS(Tr) er her 1.0248, og det tætteste svar i opgaven er 1.01. "
   ]
  },
  {
   "attachments": {},
   "cell_type": "markdown",
   "metadata": {},
   "source": [
    "Løsningsforslaget foreslår:"
   ]
  },
  {
   "cell_type": "code",
   "execution_count": null,
   "metadata": {
    "vscode": {
     "languageId": "r"
    }
   },
   "outputs": [
    {
     "data": {
      "text/html": [
       "<table class=\"dataframe\">\n",
       "<caption>A anova: 2 × 5</caption>\n",
       "<thead>\n",
       "\t<tr><th></th><th scope=col>Df</th><th scope=col>Sum Sq</th><th scope=col>Mean Sq</th><th scope=col>F value</th><th scope=col>Pr(&gt;F)</th></tr>\n",
       "\t<tr><th></th><th scope=col>&lt;int&gt;</th><th scope=col>&lt;dbl&gt;</th><th scope=col>&lt;dbl&gt;</th><th scope=col>&lt;dbl&gt;</th><th scope=col>&lt;dbl&gt;</th></tr>\n",
       "</thead>\n",
       "<tbody>\n",
       "\t<tr><th scope=row>grp</th><td>2</td><td>1.011650</td><td>0.5058250</td><td>4.639769</td><td>0.04123328</td></tr>\n",
       "\t<tr><th scope=row>Residuals</th><td>9</td><td>0.981175</td><td>0.1090194</td><td>      NA</td><td>        NA</td></tr>\n",
       "</tbody>\n",
       "</table>\n"
      ],
      "text/latex": [
       "A anova: 2 × 5\n",
       "\\begin{tabular}{r|lllll}\n",
       "  & Df & Sum Sq & Mean Sq & F value & Pr(>F)\\\\\n",
       "  & <int> & <dbl> & <dbl> & <dbl> & <dbl>\\\\\n",
       "\\hline\n",
       "\tgrp & 2 & 1.011650 & 0.5058250 & 4.639769 & 0.04123328\\\\\n",
       "\tResiduals & 9 & 0.981175 & 0.1090194 &       NA &         NA\\\\\n",
       "\\end{tabular}\n"
      ],
      "text/markdown": [
       "\n",
       "A anova: 2 × 5\n",
       "\n",
       "| <!--/--> | Df &lt;int&gt; | Sum Sq &lt;dbl&gt; | Mean Sq &lt;dbl&gt; | F value &lt;dbl&gt; | Pr(&gt;F) &lt;dbl&gt; |\n",
       "|---|---|---|---|---|---|\n",
       "| grp | 2 | 1.011650 | 0.5058250 | 4.639769 | 0.04123328 |\n",
       "| Residuals | 9 | 0.981175 | 0.1090194 |       NA |         NA |\n",
       "\n"
      ],
      "text/plain": [
       "          Df Sum Sq   Mean Sq   F value  Pr(>F)    \n",
       "grp       2  1.011650 0.5058250 4.639769 0.04123328\n",
       "Residuals 9  0.981175 0.1090194       NA         NA"
      ]
     },
     "metadata": {},
     "output_type": "display_data"
    }
   ],
   "source": [
    "y <- c(1.89, 2.35, 1.68, 2.11, 3.15, 2.16, 2.40, 2.59, 1.54, 2.02, 2.01, 2.11)\n",
    "grp<-c(rep(\"a\",4),rep(\"b\",4),rep(\"c\",4))\n",
    "anova(lm(y~grp))"
   ]
  },
  {
   "attachments": {},
   "cell_type": "markdown",
   "metadata": {},
   "source": [
    "hvoraf vi igen kan aflæse SS(Tr) som 1.01.\n",
    "\n",
    "Svar: **4**"
   ]
  },
  {
   "attachments": {},
   "cell_type": "markdown",
   "metadata": {},
   "source": [
    "### **Spørgsmål X.2 (27)**\n"
   ]
  },
  {
   "attachments": {},
   "cell_type": "markdown",
   "metadata": {},
   "source": [
    "Hvilket af følgende udsagn er sandt?"
   ]
  },
  {
   "attachments": {},
   "cell_type": "markdown",
   "metadata": {},
   "source": [
    "1 er forkert, idet de sorte linjer angiver median ikke gennemsnit.\n",
    "\n",
    "2 er rigtigt, da mediaen findes ved de sorte linjer og er aflæst korrekt.\n",
    "\n",
    "3 er forkert, idet øvre og nedre kvartil er ved hhv 75 og 25, ikke 95 og 5.\n",
    "\n",
    "4 er forkert da øvre og nedre kvartil er ved hhv 75 og 25, ikke 90 og 10.\n",
    "\n",
    "5 er forkert, da det ikke er whiskers der angiver IQR. \n",
    "\n",
    "Svar: **2**"
   ]
  },
  {
   "attachments": {},
   "cell_type": "markdown",
   "metadata": {},
   "source": [
    "## Opgave XI"
   ]
  },
  {
   "attachments": {},
   "cell_type": "markdown",
   "metadata": {},
   "source": [
    "### **Spørgsmål XI.1 (28)**\n"
   ]
  },
  {
   "attachments": {},
   "cell_type": "markdown",
   "metadata": {},
   "source": [
    "Hvad er det forventede (forudsagte) proteinindhold?"
   ]
  },
  {
   "attachments": {},
   "cell_type": "markdown",
   "metadata": {},
   "source": [
    "Idet α's p værdi er mindre en 0.05 inkluderes havre.\n",
    "\n",
    "For β er p værdien større end 0.05 og derfor ikke signifikante.  "
   ]
  },
  {
   "cell_type": "code",
   "execution_count": null,
   "metadata": {
    "vscode": {
     "languageId": "r"
    }
   },
   "outputs": [],
   "source": [
    "y21 = 5.6 + 0.59\n",
    "y24 = 5.6 + 0.59"
   ]
  },
  {
   "attachments": {},
   "cell_type": "markdown",
   "metadata": {},
   "source": [
    "Svar: **5**"
   ]
  },
  {
   "attachments": {},
   "cell_type": "markdown",
   "metadata": {},
   "source": [
    "### **Spørgsmål XI.2 (29)**\n"
   ]
  },
  {
   "attachments": {},
   "cell_type": "markdown",
   "metadata": {},
   "source": [
    "Nogle af elementerne i ANOVA-tabellen ovenfor er blevet erstattet af spørgsmålstegn. Hvilket\n",
    "af følgende udsagn er korrekt for behandlingen?"
   ]
  },
  {
   "attachments": {},
   "cell_type": "markdown",
   "metadata": {},
   "source": [
    "Udregner først df for behandlingen. \n",
    "Vi kender df for havre og residuals, og kan derfor finde df for behandling ud fra:"
   ]
  },
  {
   "cell_type": "code",
   "execution_count": null,
   "metadata": {
    "vscode": {
     "languageId": "r"
    }
   },
   "outputs": [
    {
     "data": {
      "text/html": [
       "3"
      ],
      "text/latex": [
       "3"
      ],
      "text/markdown": [
       "3"
      ],
      "text/plain": [
       "[1] 3"
      ]
     },
     "metadata": {},
     "output_type": "display_data"
    }
   ],
   "source": [
    "# df_residual = (df_havre) * (df_behandling)\n",
    "df_behandling = 15/5\n",
    "df_behandling"
   ]
  },
  {
   "attachments": {},
   "cell_type": "markdown",
   "metadata": {},
   "source": [
    "Med df = 3 er der kun to mulige svarmuligheder. (kunne også blot have aflæst teksten, der siger at der er 4 behandlinger. Deraf df = 4 - 1 = 3)"
   ]
  },
  {
   "attachments": {},
   "cell_type": "markdown",
   "metadata": {},
   "source": [
    "Regner nu f værdien. "
   ]
  },
  {
   "cell_type": "code",
   "execution_count": null,
   "metadata": {
    "vscode": {
     "languageId": "r"
    }
   },
   "outputs": [
    {
     "data": {
      "text/html": [
       "0.81745726906088"
      ],
      "text/latex": [
       "0.81745726906088"
      ],
      "text/markdown": [
       "0.81745726906088"
      ],
      "text/plain": [
       "[1] 0.8174573"
      ]
     },
     "metadata": {},
     "output_type": "display_data"
    }
   ],
   "source": [
    "# F = mean_sq_behandling / mean_sq_residuals\n",
    "0.08513/0.10414"
   ]
  },
  {
   "attachments": {},
   "cell_type": "markdown",
   "metadata": {},
   "source": [
    "df er 3 og f-value er dermed 0.817.\n",
    "\n",
    "Svar: **2**"
   ]
  },
  {
   "attachments": {},
   "cell_type": "markdown",
   "metadata": {},
   "source": [
    "### **Spørgsmål XI.3 (30)**\n"
   ]
  },
  {
   "attachments": {},
   "cell_type": "markdown",
   "metadata": {},
   "source": [
    "Ved test af nulhypotesen H0,Havre : α_i = 0, hvor i = 1, 2, ..., k, hvilken implikation angivet nedenfor er korrekt på et signifikansniveau α = 0.05?"
   ]
  },
  {
   "attachments": {},
   "cell_type": "markdown",
   "metadata": {},
   "source": [
    "alpha's p værdi er 0.0133 og der er dermed 1.33% chance for at teststatistikken er højere end den observerede. \n",
    "\n",
    "Svar: **5**"
   ]
  }
 ],
 "metadata": {
  "kernelspec": {
   "display_name": "R",
   "language": "R",
   "name": "ir"
  },
  "language_info": {
   "codemirror_mode": "r",
   "file_extension": ".r",
   "mimetype": "text/x-r-source",
   "name": "R",
   "pygments_lexer": "r",
   "version": "4.2.2"
  },
  "orig_nbformat": 4
 },
 "nbformat": 4,
 "nbformat_minor": 2
}
