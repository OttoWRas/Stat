{
 "cells": [
  {
   "attachments": {},
   "cell_type": "markdown",
   "metadata": {},
   "source": [
    "Reset envorionment"
   ]
  },
  {
   "cell_type": "code",
   "execution_count": 19,
   "metadata": {
    "vscode": {
     "languageId": "r"
    }
   },
   "outputs": [],
   "source": [
    "rm(list=ls())"
   ]
  },
  {
   "attachments": {},
   "cell_type": "markdown",
   "metadata": {},
   "source": [
    "## Opgave 1"
   ]
  },
  {
   "attachments": {},
   "cell_type": "markdown",
   "metadata": {},
   "source": [
    "### **Spørgsmål I.1 (1)**\n",
    "\n",
    "Hvad er sandsynligheden for ikke at finde nogle defekte varer?\n",
    "Antager at fordeling følger en binorm fordeling."
   ]
  },
  {
   "cell_type": "code",
   "execution_count": 20,
   "metadata": {
    "vscode": {
     "languageId": "r"
    }
   },
   "outputs": [
    {
     "data": {
      "text/html": [
       "0.737424126894928"
      ],
      "text/latex": [
       "0.737424126894928"
      ],
      "text/markdown": [
       "0.737424126894928"
      ],
      "text/plain": [
       "[1] 0.7374241"
      ]
     },
     "metadata": {},
     "output_type": "display_data"
    }
   ],
   "source": [
    "pbinom(0,10,0.03)"
   ]
  },
  {
   "attachments": {},
   "cell_type": "markdown",
   "metadata": {},
   "source": [
    "Der er en 73% chance for ikke at finde fejl. \n",
    "\n",
    "Svar: **4**"
   ]
  },
  {
   "attachments": {},
   "cell_type": "markdown",
   "metadata": {},
   "source": [
    "### **Spørgsmål I.2 (2)**\n",
    "\n",
    "Hvad er antallet af defekter, hvor der er 98% eller højere sandsynlighed for, at opnå dette antal\n",
    "eller færre defekter i eksperimentet?\n",
    "\n",
    "Vælger at teste alle svarmuligheder:"
   ]
  },
  {
   "cell_type": "code",
   "execution_count": 21,
   "metadata": {
    "vscode": {
     "languageId": "r"
    }
   },
   "outputs": [
    {
     "data": {
      "text/html": [
       "0.737424126894928"
      ],
      "text/latex": [
       "0.737424126894928"
      ],
      "text/markdown": [
       "0.737424126894928"
      ],
      "text/plain": [
       "[1] 0.7374241"
      ]
     },
     "metadata": {},
     "output_type": "display_data"
    },
    {
     "data": {
      "text/html": [
       "0.965493444491298"
      ],
      "text/latex": [
       "0.965493444491298"
      ],
      "text/markdown": [
       "0.965493444491298"
      ],
      "text/plain": [
       "[1] 0.9654934"
      ]
     },
     "metadata": {},
     "output_type": "display_data"
    },
    {
     "data": {
      "text/html": [
       "0.997235050548525"
      ],
      "text/latex": [
       "0.997235050548525"
      ],
      "text/markdown": [
       "0.997235050548525"
      ],
      "text/plain": [
       "[1] 0.9972351"
      ]
     },
     "metadata": {},
     "output_type": "display_data"
    },
    {
     "data": {
      "text/html": [
       "0.999999862047334"
      ],
      "text/latex": [
       "0.999999862047334"
      ],
      "text/markdown": [
       "0.999999862047334"
      ],
      "text/plain": [
       "[1] 0.9999999"
      ]
     },
     "metadata": {},
     "output_type": "display_data"
    },
    {
     "data": {
      "text/html": [
       "0.999999999999808"
      ],
      "text/latex": [
       "0.999999999999808"
      ],
      "text/markdown": [
       "0.999999999999808"
      ],
      "text/plain": [
       "[1] 1"
      ]
     },
     "metadata": {},
     "output_type": "display_data"
    }
   ],
   "source": [
    "pbinom(0,10,0.03)\n",
    "pbinom(1,10,0.03)\n",
    "pbinom(2,10,0.03)\n",
    "pbinom(5,10,0.03)\n",
    "pbinom(8,10,0.03)"
   ]
  },
  {
   "attachments": {},
   "cell_type": "markdown",
   "metadata": {},
   "source": [
    "Der skal mindst to defekter til for at opnå 98% sandsynlighed.\n",
    "\n",
    "Svar: **2**"
   ]
  },
  {
   "attachments": {},
   "cell_type": "markdown",
   "metadata": {},
   "source": [
    "### **Spørgsmål I.3 (3)** \n",
    "\n",
    "Hvilket af følgende udtryk beregner variansen?"
   ]
  }
 ],
 "metadata": {
  "kernelspec": {
   "display_name": "R",
   "language": "R",
   "name": "ir"
  },
  "language_info": {
   "codemirror_mode": "r",
   "file_extension": ".r",
   "mimetype": "text/x-r-source",
   "name": "R",
   "pygments_lexer": "r",
   "version": "4.2.2"
  },
  "orig_nbformat": 4
 },
 "nbformat": 4,
 "nbformat_minor": 2
}
