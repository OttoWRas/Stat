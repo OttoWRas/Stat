{
 "cells": [
  {
   "attachments": {},
   "cell_type": "markdown",
   "metadata": {},
   "source": [
    "Resetting"
   ]
  },
  {
   "cell_type": "code",
   "execution_count": 315,
   "metadata": {
    "vscode": {
     "languageId": "r"
    }
   },
   "outputs": [],
   "source": [
    "rm(list=ls())"
   ]
  },
  {
   "attachments": {},
   "cell_type": "markdown",
   "metadata": {},
   "source": [
    "# Opgave I"
   ]
  },
  {
   "attachments": {},
   "cell_type": "markdown",
   "metadata": {},
   "source": [
    "#### **Spørgsmål I.1 (1)**\n",
    "\n",
    "Hvordan beregnes 95% konfidensintervallet for middelforskellen mellem forår og efterår?"
   ]
  },
  {
   "attachments": {},
   "cell_type": "markdown",
   "metadata": {},
   "source": [
    "Conf. interval udrenges ud fra:"
   ]
  },
  {
   "cell_type": "code",
   "execution_count": 316,
   "metadata": {
    "vscode": {
     "languageId": "r"
    }
   },
   "outputs": [
    {
     "ename": "ERROR",
     "evalue": "Error in parse(text = x, srcfile = src): <text>:1:9: unexpected input\n1: CI = mu ±\n            ^\n",
     "output_type": "error",
     "traceback": [
      "Error in parse(text = x, srcfile = src): <text>:1:9: unexpected input\n1: CI = mu ±\n            ^\nTraceback:\n"
     ]
    }
   ],
   "source": [
    "CI = mu ± qt((1-alpha/2), df = (n-1)) * (var/sqrt(n))"
   ]
  },
  {
   "attachments": {},
   "cell_type": "markdown",
   "metadata": {},
   "source": [
    "Hvilket i dette tilfælde bliver det til:"
   ]
  },
  {
   "cell_type": "code",
   "execution_count": null,
   "metadata": {
    "vscode": {
     "languageId": "r"
    }
   },
   "outputs": [
    {
     "data": {
      "text/html": [
       "2.16036865646279"
      ],
      "text/latex": [
       "2.16036865646279"
      ],
      "text/markdown": [
       "2.16036865646279"
      ],
      "text/plain": [
       "[1] 2.160369"
      ]
     },
     "metadata": {},
     "output_type": "display_data"
    }
   ],
   "source": [
    "qt(1-0.05/2, df=13)"
   ]
  },
  {
   "cell_type": "code",
   "execution_count": null,
   "metadata": {
    "vscode": {
     "languageId": "r"
    }
   },
   "outputs": [
    {
     "ename": "ERROR",
     "evalue": "Error in parse(text = x, srcfile = src): <text>:1:7: unexpected input\n1: 367.2 ±\n          ^\n",
     "output_type": "error",
     "traceback": [
      "Error in parse(text = x, srcfile = src): <text>:1:7: unexpected input\n1: 367.2 ±\n          ^\nTraceback:\n"
     ]
    }
   ],
   "source": [
    "# 367.2 ± 2.16 * sqrt(571.5^2/14)"
   ]
  },
  {
   "attachments": {},
   "cell_type": "markdown",
   "metadata": {},
   "source": [
    "Læg mærke til at sqrt() er flytted ud fra brøken, hvorfor vi løfter potensens for variansen til 2.\n",
    "\n",
    "Regner efter for en god ordens skyld:"
   ]
  },
  {
   "cell_type": "code",
   "execution_count": null,
   "metadata": {
    "vscode": {
     "languageId": "r"
    }
   },
   "outputs": [
    {
     "data": {
      "text/html": [
       "37.2257240193223"
      ],
      "text/latex": [
       "37.2257240193223"
      ],
      "text/markdown": [
       "37.2257240193223"
      ],
      "text/plain": [
       "[1] 37.22572"
      ]
     },
     "metadata": {},
     "output_type": "display_data"
    },
    {
     "data": {
      "text/html": [
       "697.174275980678"
      ],
      "text/latex": [
       "697.174275980678"
      ],
      "text/markdown": [
       "697.174275980678"
      ],
      "text/plain": [
       "[1] 697.1743"
      ]
     },
     "metadata": {},
     "output_type": "display_data"
    }
   ],
   "source": [
    "367.2 - qt((1-0.05/2), df = (14-1)) * (571.5/sqrt(14))\n",
    "367.2 + qt((1-0.05/2), df = (14-1)) * (571.5/sqrt(14))"
   ]
  },
  {
   "attachments": {},
   "cell_type": "markdown",
   "metadata": {},
   "source": [
    "hvilket gerne skulle være det samme som:"
   ]
  },
  {
   "cell_type": "code",
   "execution_count": null,
   "metadata": {
    "vscode": {
     "languageId": "r"
    }
   },
   "outputs": [
    {
     "data": {
      "text/html": [
       "37.2820325336268"
      ],
      "text/latex": [
       "37.2820325336268"
      ],
      "text/markdown": [
       "37.2820325336268"
      ],
      "text/plain": [
       "[1] 37.28203"
      ]
     },
     "metadata": {},
     "output_type": "display_data"
    },
    {
     "data": {
      "text/html": [
       "697.117967466373"
      ],
      "text/latex": [
       "697.117967466373"
      ],
      "text/markdown": [
       "697.117967466373"
      ],
      "text/plain": [
       "[1] 697.118"
      ]
     },
     "metadata": {},
     "output_type": "display_data"
    }
   ],
   "source": [
    "367.2 - 2.16 * sqrt(571.5^2/14)\n",
    "367.2 + 2.16 * sqrt(571.5^2/14)"
   ]
  },
  {
   "attachments": {},
   "cell_type": "markdown",
   "metadata": {},
   "source": [
    "Svar: **2**"
   ]
  },
  {
   "attachments": {},
   "cell_type": "markdown",
   "metadata": {},
   "source": [
    "#### **Spørgsmål I.2 (2)**\n",
    "En test for ingen forskel i middelværdi mellem forår og efterår skal udføres på signifikansniveau 5%. Hvilken konklusion kan drages af denne test baseret på de givne oplysninger (både\n",
    "konklusion og argument skal være korrekt)?"
   ]
  },
  {
   "attachments": {},
   "cell_type": "markdown",
   "metadata": {},
   "source": [
    "Udfører en t-test:"
   ]
  },
  {
   "cell_type": "code",
   "execution_count": null,
   "metadata": {
    "vscode": {
     "languageId": "r"
    }
   },
   "outputs": [
    {
     "data": {
      "text/plain": [
       "\n",
       "\tOne Sample t-test\n",
       "\n",
       "data:  x\n",
       "t = 2.404, df = 13, p-value = 0.03184\n",
       "alternative hypothesis: true mean is not equal to 0\n",
       "95 percent confidence interval:\n",
       "  37.21704 697.21153\n",
       "sample estimates:\n",
       "mean of x \n",
       " 367.2143 \n"
      ]
     },
     "metadata": {},
     "output_type": "display_data"
    }
   ],
   "source": [
    "x = c(826,435,-504,247,-211,357,-570,601,1459,770,830,-156,748,309)\n",
    "t.test(x)"
   ]
  },
  {
   "attachments": {},
   "cell_type": "markdown",
   "metadata": {},
   "source": [
    "Vi ser at p-væriden er mindre en 0.05, hvorfor det kan påvises at der er en signifikant højere middelværdi i efteråret.\n",
    "\n",
    "Svar: **1**"
   ]
  },
  {
   "attachments": {},
   "cell_type": "markdown",
   "metadata": {},
   "source": [
    "#### **Spørgsmål I.3 (3)**\n",
    "\n",
    "Hvad kaldes denne værdi?\n",
    "\n",
    "Medianen. \n",
    "\n",
    "Svar: **4**"
   ]
  },
  {
   "attachments": {},
   "cell_type": "markdown",
   "metadata": {},
   "source": [
    "# Opgave II"
   ]
  },
  {
   "attachments": {},
   "cell_type": "markdown",
   "metadata": {},
   "source": [
    "#### **Spørgsmål II.1 (4)**\n",
    "Hvad er stikprøvestandardafvigelsen?"
   ]
  },
  {
   "attachments": {},
   "cell_type": "markdown",
   "metadata": {},
   "source": [
    "**HUSK AT DET ER STANDARDAFVIGELSEN DER BLIVER SPURGT OM!!**"
   ]
  },
  {
   "attachments": {},
   "cell_type": "markdown",
   "metadata": {},
   "source": [
    "Generer blot 14 nuller og 18 ettere. Bruger derefter sd()"
   ]
  },
  {
   "cell_type": "code",
   "execution_count": null,
   "metadata": {
    "vscode": {
     "languageId": "r"
    }
   },
   "outputs": [
    {
     "data": {
      "text/html": [
       "0.504016128774185"
      ],
      "text/latex": [
       "0.504016128774185"
      ],
      "text/markdown": [
       "0.504016128774185"
      ],
      "text/plain": [
       "[1] 0.5040161"
      ]
     },
     "metadata": {},
     "output_type": "display_data"
    }
   ],
   "source": [
    "x = c(rep(0,14),rep(1,18))\n",
    "sd(x)"
   ]
  },
  {
   "attachments": {},
   "cell_type": "markdown",
   "metadata": {},
   "source": [
    "Svar: **3**"
   ]
  },
  {
   "attachments": {},
   "cell_type": "markdown",
   "metadata": {},
   "source": [
    "#### **Spørgsmål II.2 (5)**\n",
    "Stikprøven var fra et binomialeksperiment. Parameteren p er sandsynligheden for en succes. Hvad er estimatet af p?"
   ]
  },
  {
   "attachments": {},
   "cell_type": "markdown",
   "metadata": {},
   "source": [
    "Vi undersøger simpelthen hvad chance for success i eksperimentet er:\n",
    "num_suc / tol_obs"
   ]
  },
  {
   "cell_type": "code",
   "execution_count": null,
   "metadata": {
    "vscode": {
     "languageId": "r"
    }
   },
   "outputs": [
    {
     "data": {
      "text/html": [
       "0.5625"
      ],
      "text/latex": [
       "0.5625"
      ],
      "text/markdown": [
       "0.5625"
      ],
      "text/plain": [
       "[1] 0.5625"
      ]
     },
     "metadata": {},
     "output_type": "display_data"
    }
   ],
   "source": [
    "x = 18\n",
    "x/(14+18)"
   ]
  },
  {
   "attachments": {},
   "cell_type": "markdown",
   "metadata": {},
   "source": [
    "p = 9.5625\n",
    "\n",
    "Svar: **3**"
   ]
  },
  {
   "attachments": {},
   "cell_type": "markdown",
   "metadata": {},
   "source": [
    "#### **Spørgsmål II.3 (6)**\n",
    "Givet p = 0.5, hvad er sandsynligheden for at observere 18 eller flere succeser i en ny stikprøve\n",
    "af samme størrelse?"
   ]
  },
  {
   "attachments": {},
   "cell_type": "markdown",
   "metadata": {},
   "source": [
    "Udfører en pbinom med 17, da alt over er det vi er efter:"
   ]
  },
  {
   "cell_type": "code",
   "execution_count": null,
   "metadata": {
    "vscode": {
     "languageId": "r"
    }
   },
   "outputs": [
    {
     "data": {
      "text/html": [
       "0.298307447927073"
      ],
      "text/latex": [
       "0.298307447927073"
      ],
      "text/markdown": [
       "0.298307447927073"
      ],
      "text/plain": [
       "[1] 0.2983074"
      ]
     },
     "metadata": {},
     "output_type": "display_data"
    }
   ],
   "source": [
    "1 - pbinom(17,32,0.5)"
   ]
  },
  {
   "attachments": {},
   "cell_type": "markdown",
   "metadata": {},
   "source": [
    "Vi ser at sandsynligheden er 0.298\n",
    "\n",
    "Svar: **1**"
   ]
  },
  {
   "attachments": {},
   "cell_type": "markdown",
   "metadata": {},
   "source": [
    "# Opgave III"
   ]
  },
  {
   "attachments": {},
   "cell_type": "markdown",
   "metadata": {},
   "source": [
    "#### **Spørgsmål III.1 (7)**\n",
    "Man ønsker at simulere 35 udtrækninger fra en normalfordeling med middelværdi = -2 og\n",
    "varians = 4. Hvilket af følgende stykker kode gør ikke dette?"
   ]
  },
  {
   "attachments": {},
   "cell_type": "markdown",
   "metadata": {},
   "source": [
    "Jeg tænker at teste de forskellige stykker kode af. Tester med n = 3500 for at få bedre opløsning.\n"
   ]
  },
  {
   "attachments": {},
   "cell_type": "markdown",
   "metadata": {},
   "source": [
    "Efter lidt test ser vi at linje 3 bliver ved med at give en binorm fordeling omkring -8 i stedet for -2."
   ]
  },
  {
   "cell_type": "code",
   "execution_count": null,
   "metadata": {
    "vscode": {
     "languageId": "r"
    }
   },
   "outputs": [
    {
     "data": {
      "image/png": "[encoded data removed]",
      "text/plain": [
       "Plot with title “Histogram of x”"
      ]
     },
     "metadata": {
      "image/png": {
       "height": 420,
       "width": 420
      }
     },
     "output_type": "display_data"
    }
   ],
   "source": [
    "x = rnorm(n = 3500, mean = -2, sd = 1) * 4\n",
    "hist(x)"
   ]
  },
  {
   "attachments": {},
   "cell_type": "markdown",
   "metadata": {},
   "source": [
    "Løsningsforslaget foreslår: Man kunne blot aflæse at fordelingen i linje 3 bliver skaleret med 4, hvorfor fordelingen ligger omkring -8 istedet for -2\n",
    "\n",
    "Svar: **3**"
   ]
  },
  {
   "attachments": {},
   "cell_type": "markdown",
   "metadata": {},
   "source": [
    "# Opgave IV\n",
    "I et forsøg undersøgte forskere 20 planter af samme toårige art. De målte diameteren af plantens\n",
    "grundstamme (i mm) ved rodtoppen, samt mængden af frugt.\n",
    "Data er gemt i R som root, og en lineær regression udførtes, Yi = β0 + β1 xi + $\\epsilon$ i ."
   ]
  },
  {
   "attachments": {},
   "cell_type": "markdown",
   "metadata": {},
   "source": [
    "#### **Spørgsmål IV.1 (8)**\n",
    "Som det første udregner forskerne stikprøvekorrelationen til at være r = 0.953. Hvilket af\n",
    "følgende udsagn er korrekt (både konklusion og argument skal være korrekt)?"
   ]
  },
  {
   "attachments": {},
   "cell_type": "markdown",
   "metadata": {},
   "source": [
    "Linje et er den eneste der giver mening. En positiv r værdi giver nemlig positiv indflydelse, og endda meget stærk da den er tæt på 1."
   ]
  },
  {
   "attachments": {},
   "cell_type": "markdown",
   "metadata": {},
   "source": [
    "#### **Spørgsmål IV.2 (9)**\n",
    "Den gennemsnitlige grundstammediameter var x̄ = 8.31 mm. Udregn den gennemsnitlige frugt-\n",
    "mængde, ȳ."
   ]
  },
  {
   "cell_type": "code",
   "execution_count": null,
   "metadata": {
    "vscode": {
     "languageId": "r"
    }
   },
   "outputs": [
    {
     "data": {
      "text/html": [
       "67.9275"
      ],
      "text/latex": [
       "67.9275"
      ],
      "text/markdown": [
       "67.9275"
      ],
      "text/plain": [
       "[1] 67.9275"
      ]
     },
     "metadata": {},
     "output_type": "display_data"
    }
   ],
   "source": [
    "# y = b0 + b1 * xi + e_i\n",
    "y = -125.28 + 23.25 * 8.31\n",
    "y"
   ]
  },
  {
   "attachments": {},
   "cell_type": "markdown",
   "metadata": {},
   "source": [
    "Svar: **3**"
   ]
  },
  {
   "attachments": {},
   "cell_type": "markdown",
   "metadata": {},
   "source": [
    "#### **Spørgsmål IV.3 (10)**\n",
    "Udregn 95% konfidensintervallet for β1 . Du kan også benytte at Sxx = 19.90.\n",
    "\n",
    "Fra Sxx kan vi udelukke de to sidste svarmuligheder da 19.90 ikke er med i de intervaller. Udregner nu:"
   ]
  },
  {
   "cell_type": "markdown",
   "metadata": {},
   "source": [
    "\n",
    "![title](img/beta-ci.png)"
   ]
  },
  {
   "attachments": {},
   "cell_type": "markdown",
   "metadata": {},
   "source": [
    "alpha = 0.05. df er givet i outputtet som 18."
   ]
  },
  {
   "cell_type": "code",
   "execution_count": null,
   "metadata": {
    "vscode": {
     "languageId": "r"
    }
   },
   "outputs": [
    {
     "data": {
      "text/html": [
       "2.10092204024104"
      ],
      "text/latex": [
       "2.10092204024104"
      ],
      "text/markdown": [
       "2.10092204024104"
      ],
      "text/plain": [
       "[1] 2.100922"
      ]
     },
     "metadata": {},
     "output_type": "display_data"
    }
   ],
   "source": [
    "qt(1 - 0.05/2, df = 18)"
   ]
  },
  {
   "cell_type": "code",
   "execution_count": null,
   "metadata": {
    "vscode": {
     "languageId": "r"
    }
   },
   "outputs": [
    {
     "data": {
      "text/html": [
       "19.5943956499806"
      ],
      "text/latex": [
       "19.5943956499806"
      ],
      "text/markdown": [
       "19.5943956499806"
      ],
      "text/plain": [
       "[1] 19.5944"
      ]
     },
     "metadata": {},
     "output_type": "display_data"
    },
    {
     "data": {
      "text/html": [
       "26.9056043500194"
      ],
      "text/latex": [
       "26.9056043500194"
      ],
      "text/markdown": [
       "26.9056043500194"
      ],
      "text/plain": [
       "[1] 26.9056"
      ]
     },
     "metadata": {},
     "output_type": "display_data"
    }
   ],
   "source": [
    "23.25 - qt(1 - 0.05/2, df = 18) * 1.74\n",
    "23.25 + qt(1 - 0.05/2, df = 18) * 1.74"
   ]
  },
  {
   "attachments": {},
   "cell_type": "markdown",
   "metadata": {},
   "source": [
    "Svar: **1**"
   ]
  },
  {
   "attachments": {},
   "cell_type": "markdown",
   "metadata": {},
   "source": [
    "#### **Spørgsmål IV.4 (11)**\n",
    "...\n",
    "\n",
    "Ved brug af reglen for fejludvikling (error propagation rule),\n",
    "approksimér da standardafvigelsen på målet af denne grundstammes areal:"
   ]
  },
  {
   "cell_type": "code",
   "execution_count": null,
   "metadata": {
    "vscode": {
     "languageId": "r"
    }
   },
   "outputs": [
    {
     "data": {
      "text/html": [
       "0.75398223686155"
      ],
      "text/latex": [
       "0.75398223686155"
      ],
      "text/markdown": [
       "0.75398223686155"
      ],
      "text/plain": [
       "[1] 0.7539822"
      ]
     },
     "metadata": {},
     "output_type": "display_data"
    }
   ],
   "source": [
    "#f(x) = pi/4 * x^2 * sigma\n",
    "#f'(x) = 2 * pi/4 * x * sigma\n",
    "2 * pi/4*9.6*0.05"
   ]
  },
  {
   "attachments": {},
   "cell_type": "markdown",
   "metadata": {},
   "source": [
    "Svar: **2**"
   ]
  },
  {
   "attachments": {},
   "cell_type": "markdown",
   "metadata": {},
   "source": [
    "#### **Spørgsmål IV.5 (12)**\n",
    "Betragt R-outputtet ovenfor. Hvilket af de følgende udsagn er korrekt, givet et signifikansniveau\n",
    "på α = 1%?"
   ]
  },
  {
   "attachments": {},
   "cell_type": "markdown",
   "metadata": {},
   "source": [
    "Sætning 1 er forkert, idet de har fælles signifikans.\n",
    "\n",
    "Sætning 2 er forkert, idet p-værdien er mindre, ikke større end 0.01.\n",
    "\n",
    "Sætning 3 er korrekt idet begge p-værdier er mindre en 0.05 og dermed begge signifikante. \n",
    "\n",
    "Sætning 4 er forkert idet p-værdien sammenliges med 0.05 istedet for 0.01.\n",
    "\n",
    "Sætning 5 er forkert, da p-værdien ikke angiver normeldeling eller ej.\n",
    "\n",
    "Svar: **3**"
   ]
  },
  {
   "attachments": {},
   "cell_type": "markdown",
   "metadata": {},
   "source": [
    "# Opgave V"
   ]
  },
  {
   "attachments": {},
   "cell_type": "markdown",
   "metadata": {},
   "source": [
    "#### **Spørgsmål V.1 (13)**\n",
    "I den følgende R-kode simuleres to stikprøver af forskellig størrelse:\n"
   ]
  },
  {
   "cell_type": "code",
   "execution_count": null,
   "metadata": {
    "vscode": {
     "languageId": "r"
    }
   },
   "outputs": [
    {
     "data": {
      "text/plain": [
       "\n",
       "\tWelch Two Sample t-test\n",
       "\n",
       "data:  x1 and x2\n",
       "t = 0.33146, df = 23.337, p-value = 0.7433\n",
       "alternative hypothesis: true difference in means is not equal to 0\n",
       "95 percent confidence interval:\n",
       " -2.636793  3.643948\n",
       "sample estimates:\n",
       "mean of x mean of y \n",
       " 4.512391  4.008814 \n"
      ]
     },
     "metadata": {},
     "output_type": "display_data"
    }
   ],
   "source": [
    "x1 <- rnorm(10, mean=4, sd=5)\n",
    "x2 <- rnorm(20, mean=4, sd=5)\n",
    "t.test(x1, x2)"
   ]
  },
  {
   "cell_type": "markdown",
   "metadata": {},
   "source": [
    "\n",
    "Hvis denne kode køres, hvad er sandsynligheden for, at den opnåede p-værdi i resultatet af\n",
    "t.test-funktionen er under et givet α ∈ [0, 1]?"
   ]
  },
  {
   "attachments": {},
   "cell_type": "markdown",
   "metadata": {},
   "source": [
    "Blank. Løsningsforslag:"
   ]
  },
  {
   "attachments": {},
   "cell_type": "markdown",
   "metadata": {},
   "source": [
    "Since there is no difference in means between two populations from which the samples are\n",
    "simulated, then the p-value of the t-test of no difference in mean, hence the null hypothesis is\n",
    "true, will actually be uniform distributed.\n",
    "So if α is the significance level, we know that obtaining a p-value below α will make us wrongly\n",
    "reject the null hypothesis, i.e. make a Type I error.\n",
    "We can check it by"
   ]
  },
  {
   "cell_type": "code",
   "execution_count": null,
   "metadata": {
    "vscode": {
     "languageId": "r"
    }
   },
   "outputs": [
    {
     "data": {
      "text/html": [
       "0.0485"
      ],
      "text/latex": [
       "0.0485"
      ],
      "text/markdown": [
       "0.0485"
      ],
      "text/plain": [
       "[1] 0.0485"
      ]
     },
     "metadata": {},
     "output_type": "display_data"
    },
    {
     "data": {
      "image/png": "[encoded data removed]",
      "text/plain": [
       "Plot with title “Histogram of pvals”"
      ]
     },
     "metadata": {
      "image/png": {
       "height": 420,
       "width": 420
      }
     },
     "output_type": "display_data"
    }
   ],
   "source": [
    "k <- 10000\n",
    "pvals <- numeric(k)\n",
    "for(i in 1:k){\n",
    "x1 <- rnorm(10, mean=4, sd=2)\n",
    "x2 <- rnorm(20, mean=4, sd=10)\n",
    "pvals[i] <- t.test(x1, x2)$p.value\n",
    "}\n",
    "hist(pvals)\n",
    "# E.g. alpha = 5%\n",
    "sum(pvals < 0.05) / k"
   ]
  },
  {
   "attachments": {},
   "cell_type": "markdown",
   "metadata": {},
   "source": [
    "#### **Spørgsmål V.2 (14)**\n",
    "\n",
    "Hvad er testens styrke med dette planlagte eksperiment?"
   ]
  },
  {
   "attachments": {},
   "cell_type": "markdown",
   "metadata": {},
   "source": [
    "Udregner først deres pooled variance:"
   ]
  },
  {
   "cell_type": "code",
   "execution_count": null,
   "metadata": {
    "vscode": {
     "languageId": "r"
    }
   },
   "outputs": [
    {
     "data": {
      "text/html": [
       "2.46666666666667"
      ],
      "text/latex": [
       "2.46666666666667"
      ],
      "text/markdown": [
       "2.46666666666667"
      ],
      "text/plain": [
       "[1] 2.466667"
      ]
     },
     "metadata": {},
     "output_type": "display_data"
    }
   ],
   "source": [
    "#s^2 = ( (n1 - 1)*s1^2 + (n2-1)*s2^2 ) / (n1 + n2 - 2)\n",
    "((20 - 1)*1.8^2 + (30-1)*1.4^2) / (20 + 30 - 2)"
   ]
  },
  {
   "attachments": {},
   "cell_type": "markdown",
   "metadata": {},
   "source": [
    "Nu er den poolede varians findes. Vi skal bruge std. afvigelsen, hvorfor vi tager sqrt(2.467). Vores eksperiment skal have størrelsen n = 30, med en delta = 1, og sig level = 0.05. Husker at vi har med en two-sample at gøre.  "
   ]
  },
  {
   "cell_type": "code",
   "execution_count": null,
   "metadata": {
    "vscode": {
     "languageId": "r"
    }
   },
   "outputs": [
    {
     "data": {
      "text/plain": [
       "\n",
       "     Two-sample t test power calculation \n",
       "\n",
       "              n = 30\n",
       "          delta = 1\n",
       "             sd = 1.570563\n",
       "      sig.level = 0.05\n",
       "          power = 0.6790425\n",
       "    alternative = two.sided\n",
       "\n",
       "NOTE: n is number in *each* group\n"
      ]
     },
     "metadata": {},
     "output_type": "display_data"
    }
   ],
   "source": [
    "s_pool = ((20 - 1)*1.8^2 + (30-1)*1.4^2) / (20 + 30 - 2)\n",
    "power.t.test(n=30, delta=1, sd=sqrt(s_pool), sig.level=0.05, type=\"two.sample\")"
   ]
  },
  {
   "attachments": {},
   "cell_type": "markdown",
   "metadata": {},
   "source": [
    "Svar: **5**"
   ]
  },
  {
   "attachments": {},
   "cell_type": "markdown",
   "metadata": {},
   "source": [
    "# Opgave VI"
   ]
  },
  {
   "attachments": {},
   "cell_type": "markdown",
   "metadata": {},
   "source": [
    "#### **Spørgsmål VI.1 (15)**\n",
    "\n",
    "Hvilket af følgende udsagn kan konkluderes om stikprøvedataene fra område A?:"
   ]
  },
  {
   "attachments": {},
   "cell_type": "markdown",
   "metadata": {},
   "source": [
    "Svar: **blank**"
   ]
  },
  {
   "attachments": {},
   "cell_type": "markdown",
   "metadata": {},
   "source": [
    "#### **Spørgsmål VI.2 (16)**\n",
    "Forskerne beslutter sig for at sammenligne medianerne af de to stikprøver.\n",
    "Hvilket af følgende kodeuddrag udregner på korrekt vis et 95% konfidensinterval for medianer-\n",
    "nes forskel ved brug af ikke-parametrisk bootstrapping?"
   ]
  },
  {
   "attachments": {},
   "cell_type": "markdown",
   "metadata": {},
   "source": [
    "non-parametric antager at vi ikke angiver model. 3-5 antager t-fordeling. \n",
    "2 udelukkes fordi den antager paired test. \n",
    "Efterlader os med 1.\n",
    "\n",
    "Svar: **1**"
   ]
  },
  {
   "attachments": {},
   "cell_type": "markdown",
   "metadata": {},
   "source": [
    "#### **Spørgsmål VI.3 (17)**\n",
    "Som resultat af forrige spørgsmål fik forskerne konfidensintervallet [-16.3, 4.09].\n",
    "Hvilket af følgende udsagn kan vi konkludere?"
   ]
  },
  {
   "attachments": {},
   "cell_type": "markdown",
   "metadata": {},
   "source": [
    "0 er med i intervallet, hvorfor der ikke er signinfikant forskel.\n",
    "\n",
    "Svar: **3**"
   ]
  },
  {
   "attachments": {},
   "cell_type": "markdown",
   "metadata": {},
   "source": [
    "# Opgave VII"
   ]
  },
  {
   "attachments": {},
   "cell_type": "markdown",
   "metadata": {},
   "source": [
    "#### **Spørgsmål VII.1 (18)**\n",
    "Hvad er den totale varians (SST )?"
   ]
  },
  {
   "attachments": {},
   "cell_type": "markdown",
   "metadata": {},
   "source": []
  },
  {
   "cell_type": "code",
   "execution_count": null,
   "metadata": {
    "vscode": {
     "languageId": "r"
    }
   },
   "outputs": [],
   "source": []
  },
  {
   "cell_type": "code",
   "execution_count": null,
   "metadata": {
    "vscode": {
     "languageId": "r"
    }
   },
   "outputs": [
    {
     "data": {
      "text/html": [
       "<table class=\"dataframe\">\n",
       "<caption>A anova: 2 × 5</caption>\n",
       "<thead>\n",
       "\t<tr><th></th><th scope=col>Df</th><th scope=col>Sum Sq</th><th scope=col>Mean Sq</th><th scope=col>F value</th><th scope=col>Pr(&gt;F)</th></tr>\n",
       "\t<tr><th></th><th scope=col>&lt;int&gt;</th><th scope=col>&lt;dbl&gt;</th><th scope=col>&lt;dbl&gt;</th><th scope=col>&lt;dbl&gt;</th><th scope=col>&lt;dbl&gt;</th></tr>\n",
       "</thead>\n",
       "<tbody>\n",
       "\t<tr><th scope=row>grp</th><td> 3</td><td>1.0855</td><td>0.3618333</td><td>3.146377</td><td>0.05415827</td></tr>\n",
       "\t<tr><th scope=row>Residuals</th><td>16</td><td>1.8400</td><td>0.1150000</td><td>      NA</td><td>        NA</td></tr>\n",
       "</tbody>\n",
       "</table>\n"
      ],
      "text/latex": [
       "A anova: 2 × 5\n",
       "\\begin{tabular}{r|lllll}\n",
       "  & Df & Sum Sq & Mean Sq & F value & Pr(>F)\\\\\n",
       "  & <int> & <dbl> & <dbl> & <dbl> & <dbl>\\\\\n",
       "\\hline\n",
       "\tgrp &  3 & 1.0855 & 0.3618333 & 3.146377 & 0.05415827\\\\\n",
       "\tResiduals & 16 & 1.8400 & 0.1150000 &       NA &         NA\\\\\n",
       "\\end{tabular}\n"
      ],
      "text/markdown": [
       "\n",
       "A anova: 2 × 5\n",
       "\n",
       "| <!--/--> | Df &lt;int&gt; | Sum Sq &lt;dbl&gt; | Mean Sq &lt;dbl&gt; | F value &lt;dbl&gt; | Pr(&gt;F) &lt;dbl&gt; |\n",
       "|---|---|---|---|---|---|\n",
       "| grp |  3 | 1.0855 | 0.3618333 | 3.146377 | 0.05415827 |\n",
       "| Residuals | 16 | 1.8400 | 0.1150000 |       NA |         NA |\n",
       "\n"
      ],
      "text/plain": [
       "          Df Sum Sq Mean Sq   F value  Pr(>F)    \n",
       "grp        3 1.0855 0.3618333 3.146377 0.05415827\n",
       "Residuals 16 1.8400 0.1150000       NA         NA"
      ]
     },
     "metadata": {},
     "output_type": "display_data"
    }
   ],
   "source": [
    "y <- c(0.9,1.5,1.4,1.1,2.0,1.8,1.8,2.1,1.7,2.3,1.5,1.7,1.8,1.0,1.9,0.9,1.6,1.2,1.6,1.5)\n",
    "grp<-c(rep(\"a\",5),rep(\"b\",5),rep(\"c\",5),rep('d',5))\n",
    "anova(lm(y~grp))"
   ]
  },
  {
   "cell_type": "code",
   "execution_count": null,
   "metadata": {
    "vscode": {
     "languageId": "r"
    }
   },
   "outputs": [
    {
     "data": {
      "text/html": [
       "2.9255"
      ],
      "text/latex": [
       "2.9255"
      ],
      "text/markdown": [
       "2.9255"
      ],
      "text/plain": [
       "[1] 2.9255"
      ]
     },
     "metadata": {},
     "output_type": "display_data"
    }
   ],
   "source": [
    "# SST = SS(Tr) + SSE\n",
    "# Aflæses direkte i tabbel under Sum Sq:\n",
    "SST = 1.0855 + 1.8400\n",
    "SST"
   ]
  },
  {
   "attachments": {},
   "cell_type": "markdown",
   "metadata": {},
   "source": [
    "Svar: **5**"
   ]
  },
  {
   "attachments": {},
   "cell_type": "markdown",
   "metadata": {},
   "source": [
    "#### **Spørgsmål VII.2 (19)**\n",
    "Beregn F teststørrelsen for ANOVA. Hvad er konklusionen af testen for forskel i teknikker på\n",
    "signifikansniveau α = 5% (både konklusion og argument skal være korrekt)?"
   ]
  },
  {
   "attachments": {},
   "cell_type": "markdown",
   "metadata": {},
   "source": [
    "Bruger tabellen fra tidligere opgave. Her findes f værdien til 0.054 hvilket er større end 0.05 hvorfor nulhypotesen forkastes.\n",
    "\n",
    "Svar: **5**"
   ]
  },
  {
   "attachments": {},
   "cell_type": "markdown",
   "metadata": {},
   "source": [
    "#### **Spørgsmål VII.3 (20)**\n",
    "Det var forudplanlagt at beregne 95% konfidensintervallet for forskellen i middelværdi mellem\n",
    "to specificerede teknikker. Hvilke af de følgende R-koder beregner bredden af dette interval?"
   ]
  },
  {
   "attachments": {},
   "cell_type": "markdown",
   "metadata": {},
   "source": [
    "df kan ikke være 20, da n = 20. df må derfor skulle være <20, hvorfor kun mulighed 1-3 er tilbage.\n",
    "\n",
    "Hvis vi er ude efter 95% intervallet skal vi bruge qt(0.975), idet: qt(1 - alpha/2), alpha = 0.05.\n",
    "\n",
    "Svar: **3**"
   ]
  },
  {
   "attachments": {},
   "cell_type": "markdown",
   "metadata": {},
   "source": [
    "# Opgave VIII"
   ]
  },
  {
   "attachments": {},
   "cell_type": "markdown",
   "metadata": {},
   "source": [
    "#### **Spørgsmål VIII.1 (21)**\n",
    "To studerende har som en del af deres bachelorprojekt udført eksperimenter og indsamlet data,\n",
    "og ønsker nu at undersøge sammenhængen mellem to variable, ”X” og ”Y”.\n",
    "Men de kan ikke komme til enighed om hvordan man korrekt tjekker modelantagelserne bag\n",
    "lineær regression. Kun ét af nedenstående udsagn er korrekt. Hvilket?"
   ]
  },
  {
   "attachments": {},
   "cell_type": "markdown",
   "metadata": {},
   "source": [
    "1-2 er forkert, idet QQ plot bruges til at vurdere linearitet af residualts (linearitet).\n",
    "\n",
    "3 ??\n",
    "\n",
    "4 er rigtig, idet et residual plot kan afgøre om det kan antages at være lineært. \n",
    "\n",
    "5 ??"
   ]
  },
  {
   "attachments": {},
   "cell_type": "markdown",
   "metadata": {},
   "source": [
    "# Opgave IX"
   ]
  },
  {
   "attachments": {},
   "cell_type": "markdown",
   "metadata": {},
   "source": [
    "#### **Spørgsmål IX.1 (22)**\n",
    "Givet antagelserne bag modellen er opfyldt, hvad er estimatet af virkningen fra blok 1?"
   ]
  },
  {
   "attachments": {},
   "cell_type": "markdown",
   "metadata": {},
   "source": [
    "Anvender delvist Example 8.1"
   ]
  },
  {
   "cell_type": "code",
   "execution_count": null,
   "metadata": {
    "vscode": {
     "languageId": "r"
    }
   },
   "outputs": [
    {
     "data": {
      "text/html": [
       "<style>\n",
       ".dl-inline {width: auto; margin:0; padding: 0}\n",
       ".dl-inline>dt, .dl-inline>dd {float: none; width: auto; display: inline-block}\n",
       ".dl-inline>dt::after {content: \":\\0020\"; padding-right: .5ex}\n",
       ".dl-inline>dt:not(:first-of-type) {padding-left: .5ex}\n",
       "</style><dl class=dl-inline><dt>1</dt><dd>-0.558333333333333</dd><dt>2</dt><dd>-0.0583333333333327</dd><dt>3</dt><dd>0.041666666666667</dd><dt>4</dt><dd>0.575</dd></dl>\n"
      ],
      "text/latex": [
       "\\begin{description*}\n",
       "\\item[1] -0.558333333333333\n",
       "\\item[2] -0.0583333333333327\n",
       "\\item[3] 0.041666666666667\n",
       "\\item[4] 0.575\n",
       "\\end{description*}\n"
      ],
      "text/markdown": [
       "1\n",
       ":   -0.5583333333333332\n",
       ":   -0.05833333333333273\n",
       ":   0.0416666666666674\n",
       ":   0.575\n",
       "\n"
      ],
      "text/plain": [
       "          1           2           3           4 \n",
       "-0.55833333 -0.05833333  0.04166667  0.57500000 "
      ]
     },
     "metadata": {},
     "output_type": "display_data"
    },
    {
     "data": {
      "text/html": [
       "<strong>1:</strong> -0.558333333333333"
      ],
      "text/latex": [
       "\\textbf{1:} -0.558333333333333"
      ],
      "text/markdown": [
       "**1:** -0.558333333333333"
      ],
      "text/plain": [
       "         1 \n",
       "-0.5583333 "
      ]
     },
     "metadata": {},
     "output_type": "display_data"
    }
   ],
   "source": [
    "y <- c(3.5, 3.0, 5.4, 7.2,\n",
    "7.7, 9.0, 7.0, 6.0,\n",
    "0.4, 1.1, 1.0, 1.8)\n",
    "treatm <- as.factor(c(1, 1, 1, 1,\n",
    "2, 2, 2, 2,\n",
    "3, 3, 3, 3))\n",
    "block <- as.factor(c(1, 2, 3, 4,\n",
    "1, 2, 3, 4,\n",
    "1, 2, 3, 4))\n",
    "\n",
    "\n",
    "mu = mean(y)\n",
    "\n",
    "alpha = tapply(y, treatm, mean) - mu\n",
    "# alpha bruges ikke...\n",
    "\n",
    "\n",
    "beta = tapply(y, block, mean) - mu\n",
    "beta\n",
    "# Vælger beta 1\n",
    "beta[1]"
   ]
  },
  {
   "attachments": {},
   "cell_type": "markdown",
   "metadata": {},
   "source": [
    "Aflæs Beta_1\n",
    "\n",
    "Svar: **4**"
   ]
  },
  {
   "attachments": {},
   "cell_type": "markdown",
   "metadata": {},
   "source": [
    "#### **Spørgsmål IX.2 (23)**\n",
    "Hvad er estimatet af σ?"
   ]
  },
  {
   "cell_type": "code",
   "execution_count": null,
   "metadata": {
    "vscode": {
     "languageId": "r"
    }
   },
   "outputs": [],
   "source": [
    "y <- c(3.5, 3.0, 5.4, 7.2,\n",
    "7.7, 9.0, 7.0, 6.0,\n",
    "0.4, 1.1, 1.0, 1.8)\n",
    "treatm <- as.factor(c(1, 1, 1, 1,\n",
    "2, 2, 2, 2,\n",
    "3, 3, 3, 3))\n",
    "block <- as.factor(c(1, 2, 3, 4,\n",
    "1, 2, 3, 4,\n",
    "1, 2, 3, 4))\n",
    "fit<-lm(y~treatm+block)\n",
    "summary(fit)"
   ]
  },
  {
   "attachments": {},
   "cell_type": "markdown",
   "metadata": {},
   "source": [
    "Aflæses direkte af summary(fit) til 1.574.\n",
    "\n",
    "Svar: **2**"
   ]
  },
  {
   "attachments": {},
   "cell_type": "markdown",
   "metadata": {},
   "source": [
    "# Opgave X"
   ]
  },
  {
   "attachments": {},
   "cell_type": "markdown",
   "metadata": {},
   "source": [
    "#### **Spørgsmål X.1 (24)**\n",
    "Hvad er det sædvanlige 95 % konfidensinterval for andelen af “bløde trafikanter” dræbt i tra-\n",
    "fikken baseret på ovenstående data (dvs. totalen over de 4 år)?"
   ]
  },
  {
   "cell_type": "code",
   "execution_count": null,
   "metadata": {
    "vscode": {
     "languageId": "r"
    }
   },
   "outputs": [
    {
     "data": {
      "text/html": [
       "0.31558332581122"
      ],
      "text/latex": [
       "0.31558332581122"
      ],
      "text/markdown": [
       "0.31558332581122"
      ],
      "text/plain": [
       "[1] 0.3155833"
      ]
     },
     "metadata": {},
     "output_type": "display_data"
    },
    {
     "data": {
      "text/html": [
       "0.388344166635909"
      ],
      "text/latex": [
       "0.388344166635909"
      ],
      "text/markdown": [
       "0.388344166635909"
      ],
      "text/plain": [
       "[1] 0.3883442"
      ]
     },
     "metadata": {},
     "output_type": "display_data"
    },
    {
     "data": {
      "text/html": [
       "<style>\n",
       ".list-inline {list-style: none; margin:0; padding: 0}\n",
       ".list-inline>li {display: inline-block}\n",
       ".list-inline>li:not(:last-child)::after {content: \"\\00b7\"; padding: 0 .5ex}\n",
       "</style>\n",
       "<ol class=list-inline><li>0.31558332581122</li><li>0.388344166635909</li></ol>\n"
      ],
      "text/latex": [
       "\\begin{enumerate*}\n",
       "\\item 0.31558332581122\n",
       "\\item 0.388344166635909\n",
       "\\end{enumerate*}\n"
      ],
      "text/markdown": [
       "1. 0.31558332581122\n",
       "2. 0.388344166635909\n",
       "\n",
       "\n"
      ],
      "text/plain": [
       "[1] 0.3155833 0.3883442"
      ]
     },
     "metadata": {},
     "output_type": "display_data"
    }
   ],
   "source": [
    "n = 662\n",
    "p = (117+116)/n\n",
    "p - sqrt(p * (1 - p) / n) * qnorm(0.975)\n",
    "p + sqrt(p * (1 - p) / n) * qnorm(0.975)\n",
    "# Eller blot\n",
    "p + c(-1,1) * sqrt(p * (1 - p) / n) * qnorm(0.975)"
   ]
  },
  {
   "attachments": {},
   "cell_type": "markdown",
   "metadata": {},
   "source": [
    "Svar: **1**"
   ]
  },
  {
   "attachments": {},
   "cell_type": "markdown",
   "metadata": {},
   "source": [
    "#### **Spørgsmål X.2 (25)**\n",
    "Som en del af analysen ønsker man at teste, om der er en statistisk signifikant forskel i andelen\n",
    "af bløde trafikbrugere, der blev dræbt i årene 2016 og 2019 (H0 : p2016 − p2019 = 0). Hvad er\n",
    "konklusionen når vi bruger den sædvanlige test og signifikansniveau α = 5% (både konklusion\n",
    "og argument skal være korrekt)?"
   ]
  },
  {
   "attachments": {},
   "cell_type": "markdown",
   "metadata": {},
   "source": [
    "![title](img/dec22help-x.png)"
   ]
  },
  {
   "cell_type": "code",
   "execution_count": null,
   "metadata": {
    "vscode": {
     "languageId": "r"
    }
   },
   "outputs": [
    {
     "data": {
      "text/html": [
       "0.118303025216038"
      ],
      "text/latex": [
       "0.118303025216038"
      ],
      "text/markdown": [
       "0.118303025216038"
      ],
      "text/plain": [
       "[1] 0.118303"
      ]
     },
     "metadata": {},
     "output_type": "display_data"
    }
   ],
   "source": [
    "## CI p soft 2016 - p soft 2019\n",
    "p1 <- (31+36)/189 #2016\n",
    "p2 <- c(31+30)/175 #2019\n",
    "p <- (31+36+31+30)/(189+175) \n",
    "(z <- (p1-p2)/sqrt(p*(1-p)*(1/189+1/175)))"
   ]
  },
  {
   "attachments": {},
   "cell_type": "markdown",
   "metadata": {},
   "source": [
    "z værdien er fundet. Finder critical value for at kunne sammenligne"
   ]
  },
  {
   "cell_type": "code",
   "execution_count": null,
   "metadata": {
    "vscode": {
     "languageId": "r"
    }
   },
   "outputs": [
    {
     "data": {
      "text/html": [
       "1.95996398454005"
      ],
      "text/latex": [
       "1.95996398454005"
      ],
      "text/markdown": [
       "1.95996398454005"
      ],
      "text/plain": [
       "[1] 1.959964"
      ]
     },
     "metadata": {},
     "output_type": "display_data"
    }
   ],
   "source": [
    "qnorm(0.975)"
   ]
  },
  {
   "attachments": {},
   "cell_type": "markdown",
   "metadata": {},
   "source": [
    "Svar: **5**"
   ]
  },
  {
   "attachments": {},
   "cell_type": "markdown",
   "metadata": {},
   "source": [
    "#### **Spørgsmål X.3 (26)**\n",
    "Hvad er det sædvanlige 95% konfidensinterval for forskellen i andelen af motorcyklister, der\n",
    "blev dræbt i 2016 og 2017 (p2016 − p2017 )?"
   ]
  },
  {
   "cell_type": "code",
   "execution_count": null,
   "metadata": {
    "vscode": {
     "languageId": "r"
    }
   },
   "outputs": [
    {
     "data": {
      "text/html": [
       "<style>\n",
       ".list-inline {list-style: none; margin:0; padding: 0}\n",
       ".list-inline>li {display: inline-block}\n",
       ".list-inline>li:not(:last-child)::after {content: \"\\00b7\"; padding: 0 .5ex}\n",
       "</style>\n",
       "<ol class=list-inline><li>0.00421252668223239</li><li>0.130792359915011</li></ol>\n"
      ],
      "text/latex": [
       "\\begin{enumerate*}\n",
       "\\item 0.00421252668223239\n",
       "\\item 0.130792359915011\n",
       "\\end{enumerate*}\n"
      ],
      "text/markdown": [
       "1. 0.00421252668223239\n",
       "2. 0.130792359915011\n",
       "\n",
       "\n"
      ],
      "text/plain": [
       "[1] 0.004212527 0.130792360"
      ]
     },
     "metadata": {},
     "output_type": "display_data"
    }
   ],
   "source": [
    "n1 = 189\n",
    "n2 = 157\n",
    "## CI p mc 2016 - p mc 2017\n",
    "p1 <- (26)/n1 #2016\n",
    "p2 <- (11)/n2 #2017\n",
    "\n",
    "(p1 - p2) + c(-1,1) * sqrt((p1*(1-p1))/n1+ (p2*(1-p2))/n2) * qnorm(0.975)"
   ]
  },
  {
   "attachments": {},
   "cell_type": "markdown",
   "metadata": {},
   "source": [
    "Svar: **4**"
   ]
  },
  {
   "attachments": {},
   "cell_type": "markdown",
   "metadata": {},
   "source": [
    "#### **Spørgsmål X.4 (27)**\n",
    "På signifikansniveau α = 5%, hvad er konklusionen om hele fordelingen over de 4 år (både\n",
    "konklusion og argument skal være korrekt)?"
   ]
  },
  {
   "attachments": {},
   "cell_type": "markdown",
   "metadata": {},
   "source": [
    "#### **Spørgsmål X.5 (28)**\n",
    "Hvad er bidraget til teststørrelsen fra cellen “almindelig personbil” i 2016?"
   ]
  },
  {
   "attachments": {},
   "cell_type": "markdown",
   "metadata": {},
   "source": [
    "# Opgave XI"
   ]
  },
  {
   "attachments": {},
   "cell_type": "markdown",
   "metadata": {},
   "source": [
    "#### **Spørgsmål XI.1 (29)**\n",
    "En test for forskel i middelvarmeforbrug mellem bygningerne skal udføres. Hvilken af følgende\n",
    "R-koder beregner det korrekte resultat af sådan en test?"
   ]
  },
  {
   "attachments": {},
   "cell_type": "markdown",
   "metadata": {},
   "source": [
    "De er paired (idet de blev udført samtidig ig), derfor paired t.test.\n",
    "\n",
    "Svar: **4**"
   ]
  },
  {
   "attachments": {},
   "cell_type": "markdown",
   "metadata": {},
   "source": [
    "#### **Spørgsmål XI.2 (30)**\n",
    "Testens p-værdi var 1.6%. Ifølge kursets bog, hvordan skal man formidle dette resultat?"
   ]
  },
  {
   "attachments": {},
   "cell_type": "markdown",
   "metadata": {},
   "source": [
    "Idet p < alpha er det fair at antage evidens omkring signifikant forskel i varmeforbrug.\n",
    "\n",
    "Svar: **3**"
   ]
  }
 ],
 "metadata": {
  "kernelspec": {
   "display_name": "R",
   "language": "R",
   "name": "ir"
  },
  "language_info": {
   "codemirror_mode": "r",
   "file_extension": ".r",
   "mimetype": "text/x-r-source",
   "name": "R",
   "pygments_lexer": "r",
   "version": "4.2.2"
  },
  "orig_nbformat": 4
 },
 "nbformat": 4,
 "nbformat_minor": 2
}
