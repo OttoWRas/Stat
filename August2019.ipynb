{
 "cells": [
  {
   "attachments": {},
   "cell_type": "markdown",
   "metadata": {},
   "source": [
    "# Opgave I"
   ]
  },
  {
   "attachments": {},
   "cell_type": "markdown",
   "metadata": {},
   "source": [
    "#### **Spørgsmål I.1 (1)**\n",
    "Hvilken af nedenstående værdier har den egenskab, at sandsynligheden for, at X1 er lavere end\n",
    "denne værdi, er 15% (husk at svaret kan være afrundet)?"
   ]
  },
  {
   "attachments": {},
   "cell_type": "markdown",
   "metadata": {},
   "source": [
    "Tjekker efter med qnorm."
   ]
  },
  {
   "cell_type": "code",
   "execution_count": 108,
   "metadata": {
    "vscode": {
     "languageId": "r"
    }
   },
   "outputs": [
    {
     "data": {
      "text/html": [
       "2.92713322101242"
      ],
      "text/latex": [
       "2.92713322101242"
      ],
      "text/markdown": [
       "2.92713322101242"
      ],
      "text/plain": [
       "[1] 2.927133"
      ]
     },
     "metadata": {},
     "output_type": "display_data"
    }
   ],
   "source": [
    "qnorm(c(0.15), mean = 5, sd = 2)"
   ]
  },
  {
   "attachments": {},
   "cell_type": "markdown",
   "metadata": {},
   "source": [
    "Svar: **3**"
   ]
  },
  {
   "attachments": {},
   "cell_type": "markdown",
   "metadata": {},
   "source": [
    "#### **Spørgsmål I.2 (2)**\n",
    "Hvad er sandsynligheden for, at stikprøvegennemsnittet X̄ = 25\n",
    "P25\n",
    "i=1 Xi er større end 4.5?"
   ]
  },
  {
   "attachments": {},
   "cell_type": "markdown",
   "metadata": {},
   "source": [
    "Husker på at det er størren end, så vi siger 1-pnorm(). sd er sigma/sqrt(n) da den følger sætning 3.3 i bogen."
   ]
  },
  {
   "cell_type": "code",
   "execution_count": 109,
   "metadata": {
    "vscode": {
     "languageId": "r"
    }
   },
   "outputs": [
    {
     "data": {
      "text/html": [
       "0.894350226333145"
      ],
      "text/latex": [
       "0.894350226333145"
      ],
      "text/markdown": [
       "0.894350226333145"
      ],
      "text/plain": [
       "[1] 0.8943502"
      ]
     },
     "metadata": {},
     "output_type": "display_data"
    }
   ],
   "source": [
    "1 - pnorm(4.5, mean=5, sd=2/sqrt(25))"
   ]
  },
  {
   "attachments": {},
   "cell_type": "markdown",
   "metadata": {},
   "source": [
    "Svar: **1**"
   ]
  },
  {
   "attachments": {},
   "cell_type": "markdown",
   "metadata": {},
   "source": [
    "# Opgave II"
   ]
  },
  {
   "attachments": {},
   "cell_type": "markdown",
   "metadata": {},
   "source": [
    "#### **Spørgsmål II.1 (3)**\n",
    "I betragtning af at standardafvigelsen for strækning σl og standardafvigelsen for koncentratio-\n",
    "nen σc er kendt, hvilken af de følgende formler vil approksimere standardafvigelsen af absor-\n",
    "bansen?"
   ]
  },
  {
   "attachments": {},
   "cell_type": "markdown",
   "metadata": {},
   "source": [
    "Svar: **4**"
   ]
  },
  {
   "attachments": {},
   "cell_type": "markdown",
   "metadata": {},
   "source": [
    "#### **Spørgsmål II.2 (4)**\n",
    "I et eksperiment er den gennemsnitlige strækning bestemt til at være 1 cm med en standardaf-\n",
    "vigelse på 0.1 cm. Den gennemsnitlige koncentration bestemmes til 0.65 M med en standardaf-\n",
    "vigelse på 0.09 M. γ er angivet som 0.3 M−1 cm−1 . Hvilke af følgende simuleringer kan bruges\n",
    "til at bestemme standardafvigelsen for absorbansen?"
   ]
  },
  {
   "attachments": {},
   "cell_type": "markdown",
   "metadata": {},
   "source": [
    "Enten 1 eller 5, idet 0.09 ikke er opløftet i anden. 5 er korrekt, idet den finder sd.\n",
    "\n",
    "Svar: **5**"
   ]
  },
  {
   "attachments": {},
   "cell_type": "markdown",
   "metadata": {},
   "source": [
    "#### **Spørgsmål II.3 (5)**\n",
    "I ovennævnte spørgsmål blev en tilfældig prøve fra en normalfordeling simuleret ved hjælp af\n",
    "kommandoen rnorm. Hvilken af kommandoerne nedenfor kan bruges til at simulere en tilfældig\n",
    "prøve af længde n fra standardnormalfordelingen?"
   ]
  },
  {
   "cell_type": "markdown",
   "metadata": {},
   "source": []
  },
  {
   "attachments": {},
   "cell_type": "markdown",
   "metadata": {},
   "source": [
    "# Opgave III"
   ]
  },
  {
   "attachments": {},
   "cell_type": "markdown",
   "metadata": {},
   "source": [
    "#### **Spørgsmål III.1 (6)**\n",
    "Giv et estimat af rateparametrene λ1 og λ2 . Parametrene skal beregnes i kunder pr. time (h−1 )."
   ]
  },
  {
   "attachments": {},
   "cell_type": "markdown",
   "metadata": {},
   "source": [
    "Først regner vi mean om fra ventetid i min, til kunder pr time (mean/60min)"
   ]
  },
  {
   "cell_type": "code",
   "execution_count": 110,
   "metadata": {
    "vscode": {
     "languageId": "r"
    }
   },
   "outputs": [
    {
     "data": {
      "text/html": [
       "<style>\n",
       ".list-inline {list-style: none; margin:0; padding: 0}\n",
       ".list-inline>li {display: inline-block}\n",
       ".list-inline>li:not(:last-child)::after {content: \"\\00b7\"; padding: 0 .5ex}\n",
       "</style>\n",
       "<ol class=list-inline><li>21.7391304347826</li><li>66.8896321070234</li></ol>\n"
      ],
      "text/latex": [
       "\\begin{enumerate*}\n",
       "\\item 21.7391304347826\n",
       "\\item 66.8896321070234\n",
       "\\end{enumerate*}\n"
      ],
      "text/markdown": [
       "1. 21.7391304347826\n",
       "2. 66.8896321070234\n",
       "\n",
       "\n"
      ],
      "text/plain": [
       "[1] 21.73913 66.88963"
      ]
     },
     "metadata": {},
     "output_type": "display_data"
    }
   ],
   "source": [
    "c(60/2.76,60/0.897)"
   ]
  },
  {
   "attachments": {},
   "cell_type": "markdown",
   "metadata": {},
   "source": [
    "\n",
    "Voila!"
   ]
  },
  {
   "attachments": {},
   "cell_type": "markdown",
   "metadata": {},
   "source": [
    "Svar: **4**"
   ]
  },
  {
   "attachments": {},
   "cell_type": "markdown",
   "metadata": {},
   "source": [
    "#### **Spørgsmål III.2 (7)**\n",
    "Hvilket af følgende udsagn er korrekt?"
   ]
  },
  {
   "attachments": {},
   "cell_type": "markdown",
   "metadata": {},
   "source": [
    "Der er blevet udført et parm. boot. 95% CI er fundet til 0.30 3.42. 0 er ikke inde i dette interval, hvorfor middelventetiderne er signifikant forskellige."
   ]
  },
  {
   "attachments": {},
   "cell_type": "markdown",
   "metadata": {},
   "source": [
    "Svar: **3**"
   ]
  },
  {
   "attachments": {},
   "cell_type": "markdown",
   "metadata": {},
   "source": [
    "# Opgave IV"
   ]
  },
  {
   "attachments": {},
   "cell_type": "markdown",
   "metadata": {},
   "source": [
    "#### **Spørgsmål IV.1 (8)**\n",
    "Det blev indrapporteret at i alt 92 af harddiskene fejlede indenfor de første tre år af deres\n",
    "levetid. Angiv den estimerede standardafvigelse, σ̂p̂ , for den estimerede andel af harddiske, som\n",
    "går i stykker indenfor tre år:"
   ]
  },
  {
   "cell_type": "code",
   "execution_count": 111,
   "metadata": {
    "vscode": {
     "languageId": "r"
    }
   },
   "outputs": [
    {
     "data": {
      "text/html": [
       "0.00959515842338467"
      ],
      "text/latex": [
       "0.00959515842338467"
      ],
      "text/markdown": [
       "0.00959515842338467"
      ],
      "text/plain": [
       "[1] 0.009595158"
      ]
     },
     "metadata": {},
     "output_type": "display_data"
    }
   ],
   "source": [
    "n = (950)\n",
    "p = (92)/n\n",
    "# Eller blot\n",
    "sqrt(p * (1 - p) / n) # e.q (7-6)"
   ]
  },
  {
   "attachments": {},
   "cell_type": "markdown",
   "metadata": {},
   "source": [
    "Svar: **3**"
   ]
  },
  {
   "attachments": {},
   "cell_type": "markdown",
   "metadata": {},
   "source": [
    "#### **Spørgsmål IV.2 (9)**\n",
    "Virksomheden har en målsætning om, at 90% af deres NAS-harddiske skal have en levetid på\n",
    "over tre år. Ved hjælp af et statistisk test ønsker de at undersøge, om de lever op til dette mål.\n",
    "Hvilken statistisk nulhypotese er da relevant at teste?"
   ]
  },
  {
   "attachments": {},
   "cell_type": "markdown",
   "metadata": {},
   "source": [
    "probabiliteten skal være 10% eller rettere 0.1\n",
    "\n",
    "Svar: **1**"
   ]
  },
  {
   "attachments": {},
   "cell_type": "markdown",
   "metadata": {},
   "source": [
    "#### **Spørgsmål IV.3 (10)**\n",
    "Virksomheden ønsker at undersøge, om de to typer harddiske har samme sandsynlighed for at\n",
    "fejle indenfor de første tre år af deres levetid. Hvilken af følgende R-koder udfører det relevante\n",
    "statistiske test?"
   ]
  },
  {
   "attachments": {},
   "cell_type": "markdown",
   "metadata": {},
   "source": [
    "Vi bruger linje 4, idet det testes for 1 år + 1-2 år + 2-3 år.\n",
    "\n",
    "Svar: **4**\n"
   ]
  },
  {
   "attachments": {},
   "cell_type": "markdown",
   "metadata": {},
   "source": [
    "#### **Spørgsmål IV.4 (11)**\n",
    "Virksomheden kunne også have valgt at undersøge, om fordelingen af antallet harddiske der\n",
    "bryder sammen i de fire aldersintervaller er forskellig for de to typer diske. Under den tilsvarende\n",
    "nulhypotese H0 , hvad er så antallet af almindelige harddiske, som forventes at fejle efter 1-2\n",
    "år?"
   ]
  },
  {
   "attachments": {},
   "cell_type": "markdown",
   "metadata": {},
   "source": [
    "Ud fra nulhypotesen antager vi at der er lige stor chance for fejl for begge typer. Det undersøger jeg:"
   ]
  },
  {
   "attachments": {},
   "cell_type": "markdown",
   "metadata": {},
   "source": [
    "Jeg tager Total væriden for 1-2år for begge grupper. Dividere med den totale mængde respondanter. Ganger til sidst med mængden i den Alm. gruppe:"
   ]
  },
  {
   "cell_type": "code",
   "execution_count": 112,
   "metadata": {
    "vscode": {
     "languageId": "r"
    }
   },
   "outputs": [
    {
     "data": {
      "text/html": [
       "31.6875"
      ],
      "text/latex": [
       "31.6875"
      ],
      "text/markdown": [
       "31.6875"
      ],
      "text/plain": [
       "[1] 31.6875"
      ]
     },
     "metadata": {},
     "output_type": "display_data"
    }
   ],
   "source": [
    "78/1600 * 650"
   ]
  },
  {
   "attachments": {},
   "cell_type": "markdown",
   "metadata": {},
   "source": [
    "Svaret bliver 32, hvilket ikke er en mulighed.\n",
    "\n",
    "Svar: **5**"
   ]
  },
  {
   "attachments": {},
   "cell_type": "markdown",
   "metadata": {},
   "source": [
    "#### **Spørgsmål IV.5 (12)**\n",
    "Antag at virksomheden faktisk udfører et χ2 -test for at undersøge, om fordelingen af antallet af\n",
    "harddiske, der bryder sammen i de fire aldersintervaller, er forskellig for de to typer harddiske.\n",
    "Hvor mange frihedsgrader har den χ2 -fordeling, som anvendes i hypotesetestet?"
   ]
  },
  {
   "attachments": {},
   "cell_type": "markdown",
   "metadata": {},
   "source": [
    "Fra bogene finder formlen for df på side 140:"
   ]
  },
  {
   "cell_type": "code",
   "execution_count": 113,
   "metadata": {
    "vscode": {
     "languageId": "r"
    }
   },
   "outputs": [
    {
     "data": {
      "text/html": [
       "3"
      ],
      "text/latex": [
       "3"
      ],
      "text/markdown": [
       "3"
      ],
      "text/plain": [
       "[1] 3"
      ]
     },
     "metadata": {},
     "output_type": "display_data"
    }
   ],
   "source": [
    "# v = n - 1\n",
    "4 - 1"
   ]
  },
  {
   "attachments": {},
   "cell_type": "markdown",
   "metadata": {},
   "source": [
    "Svar: **3**"
   ]
  },
  {
   "attachments": {},
   "cell_type": "markdown",
   "metadata": {},
   "source": [
    "# Opgave V"
   ]
  },
  {
   "attachments": {},
   "cell_type": "markdown",
   "metadata": {},
   "source": [
    "#### **Spørgsmål V.1 (13)**\n",
    "Hvad er variansen af X?"
   ]
  },
  {
   "attachments": {},
   "cell_type": "markdown",
   "metadata": {},
   "source": [
    "For en Poissonfordeling: mu = var. Med et blackout per uge giver ddet en rate på 1 (da enhenden er pr uge) (sætning 2.28). \n",
    "\n",
    "Svar: **3**"
   ]
  },
  {
   "attachments": {},
   "cell_type": "markdown",
   "metadata": {},
   "source": [
    "#### **Spørgsmål V.2 (14)**\n",
    "Hvad er sandsynligheden for at der ikke er noget blackout på en tilfældigt udvalgt dag?"
   ]
  },
  {
   "attachments": {},
   "cell_type": "markdown",
   "metadata": {},
   "source": [
    "Raten var 1 per uge, men vi omregner til per dag, hvilket bliver 1/7"
   ]
  },
  {
   "cell_type": "code",
   "execution_count": 114,
   "metadata": {
    "vscode": {
     "languageId": "r"
    }
   },
   "outputs": [
    {
     "data": {
      "text/html": [
       "0.866877899750182"
      ],
      "text/latex": [
       "0.866877899750182"
      ],
      "text/markdown": [
       "0.866877899750182"
      ],
      "text/plain": [
       "[1] 0.8668779"
      ]
     },
     "metadata": {},
     "output_type": "display_data"
    }
   ],
   "source": [
    "dpois(x=0, lambda=1/7)"
   ]
  },
  {
   "attachments": {},
   "cell_type": "markdown",
   "metadata": {},
   "source": [
    "Svar: **5**"
   ]
  },
  {
   "attachments": {},
   "cell_type": "markdown",
   "metadata": {},
   "source": [
    "# Opgave VI"
   ]
  },
  {
   "attachments": {},
   "cell_type": "markdown",
   "metadata": {},
   "source": [
    "#### **Spørgsmål VI.1 (15)**\n",
    "Hvad bliver p-værdien for testet?"
   ]
  },
  {
   "attachments": {},
   "cell_type": "markdown",
   "metadata": {},
   "source": [
    "Sætning 8.6:"
   ]
  },
  {
   "cell_type": "code",
   "execution_count": 115,
   "metadata": {
    "vscode": {
     "languageId": "r"
    }
   },
   "outputs": [
    {
     "data": {
      "text/html": [
       "0.00876603064717263"
      ],
      "text/latex": [
       "0.00876603064717263"
      ],
      "text/markdown": [
       "0.00876603064717263"
      ],
      "text/plain": [
       "[1] 0.008766031"
      ]
     },
     "metadata": {},
     "output_type": "display_data"
    }
   ],
   "source": [
    "# k = 5, n = 30\n",
    "1 - pf(4.3, 5-1, 30-5)"
   ]
  },
  {
   "attachments": {},
   "cell_type": "markdown",
   "metadata": {},
   "source": [
    "Svar: **1**"
   ]
  },
  {
   "attachments": {},
   "cell_type": "markdown",
   "metadata": {},
   "source": [
    "# Opgave VII"
   ]
  },
  {
   "attachments": {},
   "cell_type": "markdown",
   "metadata": {},
   "source": [
    "#### **Spørgsmål VII.1 (16)**\n",
    "Som det ses, mangler der nogle tal. Ved B burde der stå:"
   ]
  },
  {
   "attachments": {},
   "cell_type": "markdown",
   "metadata": {},
   "source": [
    "Bruger tabellen fra bogens side 357 til at udlede:"
   ]
  },
  {
   "cell_type": "code",
   "execution_count": 116,
   "metadata": {
    "vscode": {
     "languageId": "r"
    }
   },
   "outputs": [
    {
     "data": {
      "text/html": [
       "1.18211920529801"
      ],
      "text/latex": [
       "1.18211920529801"
      ],
      "text/markdown": [
       "1.18211920529801"
      ],
      "text/plain": [
       "[1] 1.182119"
      ]
     },
     "metadata": {},
     "output_type": "display_data"
    }
   ],
   "source": [
    "SSTr = 1.19 \n",
    "SEE = 4.53\n",
    "MSE = SEE/(9)\n",
    "MSTr = SSTr / (2)\n",
    "(Fobs = MSTr/MSE)"
   ]
  },
  {
   "attachments": {},
   "cell_type": "markdown",
   "metadata": {},
   "source": [
    "Svar: **2**"
   ]
  },
  {
   "attachments": {},
   "cell_type": "markdown",
   "metadata": {},
   "source": [
    "#### **Spørgsmål VII.2 (17)**\n",
    "Det oplyses, at der var lige mange observationer i hver gruppe. Hvor mange observationer var\n",
    "der i én af grupperne?"
   ]
  },
  {
   "attachments": {},
   "cell_type": "markdown",
   "metadata": {},
   "source": [
    "Fra treatm df = 2, ved vi at der er 3 grupper. Idet Residuals df = 9 = n - k = n - 3 => n = 12.\n",
    "12 observationer fordelt på 3 grupper, dvs 4 obs. pr gruppe.\n",
    "\n",
    "Svar: **3**"
   ]
  },
  {
   "attachments": {},
   "cell_type": "markdown",
   "metadata": {},
   "source": [
    "# Opgave VIII"
   ]
  },
  {
   "attachments": {},
   "cell_type": "markdown",
   "metadata": {},
   "source": [
    "#### **Spørgsmål VIII.1 (18)**\n",
    "Ifølge analyserne hvad er da den gennemsnitlige årlige stigning i energiforbrug i perioden esti-\n",
    "meret til (i ”kg olie ækvalent” pr. år)?"
   ]
  },
  {
   "attachments": {},
   "cell_type": "markdown",
   "metadata": {},
   "source": [
    "Aflæser Estimate for year som er 21.66. Rundes op til 21.7 og svaret er fundet.\n",
    "\n",
    "Svar: **4**"
   ]
  },
  {
   "attachments": {},
   "cell_type": "markdown",
   "metadata": {},
   "source": [
    "#### **Spørgsmål VIII.2 (19)**\n",
    "Hvad beregnes korrelationen mellem energiforbrug og GDP til?"
   ]
  },
  {
   "attachments": {},
   "cell_type": "markdown",
   "metadata": {},
   "source": [
    "Bruger formel 5-80.\n",
    "sd1/sd2 * beta_1"
   ]
  },
  {
   "cell_type": "code",
   "execution_count": 117,
   "metadata": {
    "vscode": {
     "languageId": "r"
    }
   },
   "outputs": [
    {
     "data": {
      "text/html": [
       "0.982122905027933"
      ],
      "text/latex": [
       "0.982122905027933"
      ],
      "text/markdown": [
       "0.982122905027933"
      ],
      "text/plain": [
       "[1] 0.9821229"
      ]
     },
     "metadata": {},
     "output_type": "display_data"
    }
   ],
   "source": [
    "1465/179 * 1.2e-1"
   ]
  },
  {
   "attachments": {},
   "cell_type": "markdown",
   "metadata": {},
   "source": [
    "Svar: **3**"
   ]
  },
  {
   "attachments": {},
   "cell_type": "markdown",
   "metadata": {},
   "source": [
    "#### **Spørgsmål VIII.3 (20)**\n",
    "Hvilken af følgende konklusioner er mest hensigtsmæssig på baggrund af disse plots (både\n",
    "konklusion og argument skal være korrekt)?"
   ]
  },
  {
   "attachments": {},
   "cell_type": "markdown",
   "metadata": {},
   "source": [
    "Fra residualplottet kan vi se at de ikke er fordelit lineært. De kunne godt følge en potens funktion. \n",
    "\n",
    "Svar: **4**"
   ]
  },
  {
   "attachments": {},
   "cell_type": "markdown",
   "metadata": {},
   "source": [
    "#### **Spørgsmål VIII.4 (21)**\n",
    "Ifølge bogens definition er der da nogle ekstreme observationer i stikprøven, bestående af de ob-\n",
    "serverede residualer fra den estimerede model mellem energiforbrug og årstal (både konklusion\n",
    "of argument skal være korrekt)?"
   ]
  },
  {
   "attachments": {},
   "cell_type": "markdown",
   "metadata": {},
   "source": [
    "Udregner IQR for at kunne afgøre om der ligger data uden of for 1.5 * IQR"
   ]
  },
  {
   "cell_type": "code",
   "execution_count": 118,
   "metadata": {
    "vscode": {
     "languageId": "r"
    }
   },
   "outputs": [
    {
     "data": {
      "text/html": [
       "<style>\n",
       ".list-inline {list-style: none; margin:0; padding: 0}\n",
       ".list-inline>li {display: inline-block}\n",
       ".list-inline>li:not(:last-child)::after {content: \"\\00b7\"; padding: 0 .5ex}\n",
       "</style>\n",
       "<ol class=list-inline><li>-262.935</li><li>277.025</li></ol>\n"
      ],
      "text/latex": [
       "\\begin{enumerate*}\n",
       "\\item -262.935\n",
       "\\item 277.025\n",
       "\\end{enumerate*}\n"
      ],
      "text/markdown": [
       "1. -262.935\n",
       "2. 277.025\n",
       "\n",
       "\n"
      ],
      "text/plain": [
       "[1] -262.935  277.025"
      ]
     },
     "metadata": {},
     "output_type": "display_data"
    }
   ],
   "source": [
    "IQR = 74.54 - (-60.45)\n",
    "c(-60.45 - IQR*1.5,74.54 + IQR*1.5)"
   ]
  },
  {
   "attachments": {},
   "cell_type": "markdown",
   "metadata": {},
   "source": [
    "Har nu fundet grænseværdierne.\n",
    "\n",
    "Fra plottet ser vi, at ekstrempunkterne er ~160 og ~-130. Disse tal ligger inden for grænserværdierne. \n",
    "\n",
    "Svar: **2**"
   ]
  },
  {
   "attachments": {},
   "cell_type": "markdown",
   "metadata": {},
   "source": [
    "#### **Spørgsmål VIII.5 (22)**\n",
    "Man udvider nu modellen til en multipel lineær regressionsmodel, ved at anvende både årstallet\n",
    "og GDP som forklarende variabler."
   ]
  },
  {
   "cell_type": "markdown",
   "metadata": {},
   "source": []
  },
  {
   "attachments": {},
   "cell_type": "markdown",
   "metadata": {},
   "source": [
    "# Opgave IX"
   ]
  },
  {
   "attachments": {},
   "cell_type": "markdown",
   "metadata": {},
   "source": [
    "#### **Spørgsmål IX.1 (23)**\n",
    "Hvad er 95% konfidensintervallet for middelværdien af slagtevægten af grise fra gruppe 1?"
   ]
  },
  {
   "cell_type": "code",
   "execution_count": 119,
   "metadata": {
    "vscode": {
     "languageId": "r"
    }
   },
   "outputs": [
    {
     "data": {
      "text/html": [
       "<style>\n",
       ".list-inline {list-style: none; margin:0; padding: 0}\n",
       ".list-inline>li {display: inline-block}\n",
       ".list-inline>li:not(:last-child)::after {content: \"\\00b7\"; padding: 0 .5ex}\n",
       "</style>\n",
       "<ol class=list-inline><li>104.216670285896</li><li>114.583329714104</li></ol>\n"
      ],
      "text/latex": [
       "\\begin{enumerate*}\n",
       "\\item 104.216670285896\n",
       "\\item 114.583329714104\n",
       "\\end{enumerate*}\n"
      ],
      "text/markdown": [
       "1. 104.216670285896\n",
       "2. 114.583329714104\n",
       "\n",
       "\n"
      ],
      "text/plain": [
       "[1] 104.2167 114.5833"
      ]
     },
     "metadata": {},
     "output_type": "display_data"
    }
   ],
   "source": [
    "109.4 + c(-1,1) * qt(1 - 0.05/2, df=8-1) * 6.2/sqrt(8)"
   ]
  },
  {
   "attachments": {},
   "cell_type": "markdown",
   "metadata": {},
   "source": [
    "eller"
   ]
  },
  {
   "cell_type": "code",
   "execution_count": 120,
   "metadata": {
    "vscode": {
     "languageId": "r"
    }
   },
   "outputs": [
    {
     "data": {
      "text/plain": [
       "\n",
       "\tOne Sample t-test\n",
       "\n",
       "data:  x\n",
       "t = 49.81, df = 7, p-value = 3.442e-10\n",
       "alternative hypothesis: true mean is not equal to 0\n",
       "95 percent confidence interval:\n",
       " 104.1707 114.5543\n",
       "sample estimates:\n",
       "mean of x \n",
       " 109.3625 \n"
      ]
     },
     "metadata": {},
     "output_type": "display_data"
    }
   ],
   "source": [
    "x = c(113.3, 117.9, 111.9, 109.6, 109.6, 111.5, 97.8, 103.3)\n",
    "t.test(x, conf.level = 0.95)"
   ]
  },
  {
   "attachments": {},
   "cell_type": "markdown",
   "metadata": {},
   "source": [
    "95% conf intervallet er hermed fundet.\n",
    "\n",
    "Svar: **1**"
   ]
  },
  {
   "attachments": {},
   "cell_type": "markdown",
   "metadata": {},
   "source": [
    "#### **Spørgsmål IX.2 (24)**\n",
    "Man ønsker at bestemme et 99% konfidensinterval for variansen af slagtevægten for gruppe 1.\n",
    "Hvordan beregnes dette korrekt?"
   ]
  },
  {
   "attachments": {},
   "cell_type": "markdown",
   "metadata": {},
   "source": [
    "Bruger bogens formel 3-18.\n",
    "![title](img/m319.png)"
   ]
  },
  {
   "attachments": {},
   "cell_type": "markdown",
   "metadata": {},
   "source": [
    "Husker på at det er varians vi er efter, derfor 3-18 og IKKE 3-19.\n",
    "\n",
    "Den eneste linje der er korrekt er mulighed 1, idet 8-1 = 7 og variansen er i anden. \n",
    "\n",
    "Svar: **1**"
   ]
  },
  {
   "attachments": {},
   "cell_type": "markdown",
   "metadata": {},
   "source": [
    "#### **Spørgsmål IX.3 (25)**\n",
    "Ved test for forskellen i slagtevægt mellem gruppe 1 og gruppe 2, hvad fåes da den sædvanligt\n",
    "anvendte Welch teststatistik til?"
   ]
  },
  {
   "attachments": {},
   "cell_type": "markdown",
   "metadata": {},
   "source": [
    "Kunne regne den i hånde via:\n",
    "![title](img/m349.png)"
   ]
  },
  {
   "attachments": {},
   "cell_type": "markdown",
   "metadata": {},
   "source": [
    "eller bruge t.test():"
   ]
  },
  {
   "cell_type": "code",
   "execution_count": 121,
   "metadata": {
    "vscode": {
     "languageId": "r"
    }
   },
   "outputs": [
    {
     "data": {
      "text/plain": [
       "\n",
       "\tWelch Two Sample t-test\n",
       "\n",
       "data:  a and b\n",
       "t = 0.96491, df = 11.028, p-value = 0.3553\n",
       "alternative hypothesis: true difference in means is not equal to 0\n",
       "95 percent confidence interval:\n",
       " -3.078118  7.886452\n",
       "sample estimates:\n",
       "mean of x mean of y \n",
       " 109.3625  106.9583 \n"
      ]
     },
     "metadata": {},
     "output_type": "display_data"
    }
   ],
   "source": [
    "a = c(113.3, 117.9, 111.9, 109.6, 109.6, 111.5, 97.8, 103.3)\n",
    "b = c(110.7, 108.3, 110.6, 106.7, 109.7, 107.5, 105.9, 111.0, 99.9, 110.2, 99.4, 103.6)\n",
    "t.test(a,b)"
   ]
  },
  {
   "attachments": {},
   "cell_type": "markdown",
   "metadata": {},
   "source": [
    "Svar: **1**"
   ]
  },
  {
   "attachments": {},
   "cell_type": "markdown",
   "metadata": {},
   "source": [
    "#### **Spørgsmål IX.4 (26)**\n",
    "Hvis man i et nyt forsøg ønsker en styrke på 80% for at kunne detektere en forskel på 4 kg\n",
    "mellem de to grupper på konfidensniveau 99%, og bruger den sammenvægtede varians som gæt\n",
    "på populationens varians, hvor mange grise skal så mindst indgå i dette forsøg?"
   ]
  },
  {
   "cell_type": "code",
   "execution_count": 122,
   "metadata": {
    "vscode": {
     "languageId": "r"
    }
   },
   "outputs": [
    {
     "data": {
      "text/plain": [
       "\n",
       "     Two-sample t test power calculation \n",
       "\n",
       "              n = 38.51164\n",
       "          delta = 4\n",
       "             sd = 5.022118\n",
       "      sig.level = 0.01\n",
       "          power = 0.8\n",
       "    alternative = two.sided\n",
       "\n",
       "NOTE: n is number in *each* group\n"
      ]
     },
     "metadata": {},
     "output_type": "display_data"
    }
   ],
   "source": [
    "# pooled variance\n",
    "s = ((8 - 1)*6.2^2 + (12-1)*4.1^2) / (8 + 12 - 2)\n",
    "power.t.test(power=0.80, delta=4, sd=sqrt(s), sig.level=0.01, type=\"two.sample\")"
   ]
  },
  {
   "attachments": {},
   "cell_type": "markdown",
   "metadata": {},
   "source": [
    "Vi har to grupper, dvs 2 * 39 = 78.\n",
    "\n",
    "Svar: **4**"
   ]
  },
  {
   "attachments": {},
   "cell_type": "markdown",
   "metadata": {},
   "source": [
    "# Opgave X"
   ]
  },
  {
   "attachments": {},
   "cell_type": "markdown",
   "metadata": {},
   "source": [
    "#### **Spørgsmål X.1 (27)**\n",
    "Denne analyse vil bedst laves ved:"
   ]
  },
  {
   "attachments": {},
   "cell_type": "markdown",
   "metadata": {},
   "source": [
    "Man kan sammenligne to steder af gangen, for at afgøre om metode eller lokation har indflydelse. Derfor to-vejs.\n",
    "\n",
    "Svar: **2**"
   ]
  },
  {
   "attachments": {},
   "cell_type": "markdown",
   "metadata": {},
   "source": [
    "# Opgave XI"
   ]
  },
  {
   "attachments": {},
   "cell_type": "markdown",
   "metadata": {},
   "source": [
    "#### **Spørgsmål XI.1 (28)**\n",
    "Testet for hypotesen af, at middelkvaliteten for de tre maskiner er ens, foretages ved at vurdere\n",
    "teststørrelsen i en:"
   ]
  },
  {
   "attachments": {},
   "cell_type": "markdown",
   "metadata": {},
   "source": [
    "Vi har 3 maskiner, med 11 observationer. Fra two-way anova får vi følgende frihedsgrader:\n",
    "k - 1 og n - k\n",
    "Hvilket bliver \n",
    "2 og 8.\n",
    "\n",
    "Svar: **4**"
   ]
  },
  {
   "attachments": {},
   "cell_type": "markdown",
   "metadata": {},
   "source": [
    "#### **Spørgsmål XII.1 (29)**\n",
    "Hvilke fire korrelationskoefficienter (i rækkefølgen: a), b), c), d)) passer bedst med figuren?"
   ]
  },
  {
   "attachments": {},
   "cell_type": "markdown",
   "metadata": {},
   "source": [
    "a) har en umiddelbart ens fordeling, derfor lav korrelation (e.g 0.02)\n",
    "\n",
    "b) har en middel linear korrelation, med upwards trend (e.g 79)\n",
    "\n",
    "c) har en stor linear korrelation, med downwards trend (e.g -97)\n",
    "\n",
    "d) har en stor linear korrelation, med upwards trend (e.g. 95)\n",
    "\n",
    "Svar: **5**"
   ]
  },
  {
   "attachments": {},
   "cell_type": "markdown",
   "metadata": {},
   "source": [
    "#### **Spørgsmål XII.2 (30)**\n",
    "Hvilken af følgende er svar er det eneste som ikke er meget usandsynligt?"
   ]
  },
  {
   "attachments": {},
   "cell_type": "markdown",
   "metadata": {},
   "source": [
    "ved x = 4 skal y = 0.\n",
    "\n"
   ]
  },
  {
   "cell_type": "code",
   "execution_count": 123,
   "metadata": {
    "vscode": {
     "languageId": "r"
    }
   },
   "outputs": [
    {
     "data": {
      "text/html": [
       "0"
      ],
      "text/latex": [
       "0"
      ],
      "text/markdown": [
       "0"
      ],
      "text/plain": [
       "[1] 0"
      ]
     },
     "metadata": {},
     "output_type": "display_data"
    }
   ],
   "source": [
    "# 0 = A + 4 * b\n",
    "# Ved A = 20 og B = -5\n",
    "20 + 4 * (-5)"
   ]
  },
  {
   "attachments": {},
   "cell_type": "markdown",
   "metadata": {},
   "source": [
    "Svar: **2**"
   ]
  }
 ],
 "metadata": {
  "kernelspec": {
   "display_name": "R",
   "language": "R",
   "name": "ir"
  },
  "language_info": {
   "codemirror_mode": "r",
   "file_extension": ".r",
   "mimetype": "text/x-r-source",
   "name": "R",
   "pygments_lexer": "r",
   "version": "4.2.2"
  },
  "orig_nbformat": 4
 },
 "nbformat": 4,
 "nbformat_minor": 2
}
