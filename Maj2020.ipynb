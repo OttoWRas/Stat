{
 "cells": [
  {
   "cell_type": "code",
   "execution_count": 8,
   "metadata": {
    "vscode": {
     "languageId": "r"
    }
   },
   "outputs": [
    {
     "ename": "ERROR",
     "evalue": "Error in restart(): could not find function \"restart\"\n",
     "output_type": "error",
     "traceback": [
      "Error in restart(): could not find function \"restart\"\nTraceback:\n"
     ]
    }
   ],
   "source": [
    "restart()"
   ]
  },
  {
   "cell_type": "markdown",
   "metadata": {},
   "source": [
    "## Opgave I\n",
    "\n",
    "Elektriske komponenters egenskaber er ikke præcist som specificeret, f.eks. varierer modstanden\n",
    "p˚a modstandskomponenter, s˚aledes at køber man en modstandskomponent s˚a er modstanden\n",
    "igennem den ikke præcist det angivne. I forbindelse med produktionen af elektriske kredsløb\n",
    "er det af stor interesse ikke at f˚a for stor variation i kvaliteten af det samlede kredsløb. Som\n",
    "eksempel kan modstanden igennem to parallelt forbundede modstande beregnes ved\n",
    "\n",
    "$ R = \\frac{1}{\\frac{1}{R_{1}}+\\frac{1}{R_{2}}} $\n",
    "\n",
    "hvor R1 er modstanden gennem den ene og R2 gennem den anden modstand. Modstanden\n",
    "m˚ales i ohm."
   ]
  },
  {
   "cell_type": "markdown",
   "metadata": {},
   "source": [
    "$ R_{1} \\sim N(4, 0.2)$ og $ R_{2} \\sim N(2, 0.2)$"
   ]
  },
  {
   "cell_type": "markdown",
   "metadata": {},
   "source": [
    "**Spørgsmål I.1 (1)**\n",
    "\n",
    "Man køber 100 R1 modstande - som kan antages uafhængige af hinanden. Hvad er sandsynligheden for at ingen af disse har en modstand under 3 ohm?"
   ]
  },
  {
   "cell_type": "code",
   "execution_count": null,
   "metadata": {
    "vscode": {
     "languageId": "r"
    }
   },
   "outputs": [
    {
     "data": {
      "text/html": [
       "0.279300916956943"
      ],
      "text/latex": [
       "0.279300916956943"
      ],
      "text/markdown": [
       "0.279300916956943"
      ],
      "text/plain": [
       "[1] 0.2793009"
      ]
     },
     "metadata": {},
     "output_type": "display_data"
    }
   ],
   "source": [
    "(1-pnorm(3, mean=4, sd=sqrt(0.2)))^100"
   ]
  },
  {
   "cell_type": "markdown",
   "metadata": {},
   "source": [
    "**Spørgsmål I.2 (2)**\n",
    "Beregn et estimat af standardafvigelsen af den samlede modstand R (svaret er afrundet til to\n",
    "betydende cifre, tip: hvis du bruger simulering, s˚a husk at gentage nok gange s˚a resultat bliver\n",
    "stabilt)?"
   ]
  },
  {
   "cell_type": "code",
   "execution_count": null,
   "metadata": {
    "vscode": {
     "languageId": "r"
    }
   },
   "outputs": [
    {
     "data": {
      "text/html": [
       "0.209273678908239"
      ],
      "text/latex": [
       "0.209273678908239"
      ],
      "text/markdown": [
       "0.209273678908239"
      ],
      "text/plain": [
       "[1] 0.2092737"
      ]
     },
     "metadata": {},
     "output_type": "display_data"
    }
   ],
   "source": [
    "R1 = rnorm(10000000, 4, sqrt(0.2))\n",
    "R2 = rnorm(10000000, 2, sqrt(0.2))\n",
    "\n",
    "R = 1/(1/R1+1/R2)\n",
    "sd(R)"
   ]
  },
  {
   "cell_type": "markdown",
   "metadata": {},
   "source": [
    "## Opgave II\n",
    "I et computersystem bruges en optimeringsrutine og beregningstiderne for denne rutine ønskes\n",
    "undersøgt. Tiderne er m˚alt i timer og indlæst i R med følgende kode:"
   ]
  },
  {
   "cell_type": "code",
   "execution_count": 10,
   "metadata": {
    "vscode": {
     "languageId": "r"
    }
   },
   "outputs": [],
   "source": [
    "x <- c(1.6, 2, 3.4, 4, 2.1, 0.6, 0.4, 0.4, 6, 0.4,\n",
    " 4.9, 2, 2, 4.6, 0.5, 3.4, 7.2, 10.5, 3.2, 1.3, 5.7,\n",
    "1.9, 2.6, 2.5, 4.4, 1.8, 3.9, 6, 0.9)"
   ]
  },
  {
   "cell_type": "markdown",
   "metadata": {},
   "source": [
    "**Spørgsmål II.1 (3)**\n",
    "Man ønsker at vurdere hvilken fordeling udfaldene i stikprøven kunne stamme fra og man har\n",
    "derfor lavet nedenst˚aende histogram af observationerne i x: \n",
    "\n",
    "![title](img/Histogram2.1.png)"
   ]
  },
  {
   "cell_type": "markdown",
   "metadata": {},
   "source": [
    "Svar : **eksponentiel fordeling**\n",
    "\n",
    "Lets go through the answers:\n",
    "* With most values in the interval closes to zero, but no values below, then it is very\n",
    "unlikely that it is from a normal distribution.\n",
    "* It’s not Poisson, since it is not integer values.\n",
    "* It looks very must like an exponential distribution.\n",
    "* Like the normal, it’s very unlikely that it is a t-distribution.\n",
    "* It’s not Binomial, since it is not integer values.\n",
    "Hence the only likely answer is the exponential distribution."
   ]
  },
  {
   "cell_type": "markdown",
   "metadata": {},
   "source": [
    "**Spørgsmål II.2 (4)**\n",
    "Hvad er et estimatet af middelværdien og standardafvigelsen af beregningstiderne?"
   ]
  },
  {
   "cell_type": "code",
   "execution_count": 11,
   "metadata": {
    "vscode": {
     "languageId": "r"
    }
   },
   "outputs": [
    {
     "data": {
      "text/html": [
       "3.11034482758621"
      ],
      "text/latex": [
       "3.11034482758621"
      ],
      "text/markdown": [
       "3.11034482758621"
      ],
      "text/plain": [
       "[1] 3.110345"
      ]
     },
     "metadata": {},
     "output_type": "display_data"
    },
    {
     "data": {
      "text/html": [
       "2.37206131388868"
      ],
      "text/latex": [
       "2.37206131388868"
      ],
      "text/markdown": [
       "2.37206131388868"
      ],
      "text/plain": [
       "[1] 2.372061"
      ]
     },
     "metadata": {},
     "output_type": "display_data"
    }
   ],
   "source": [
    "mean(x)\n",
    "sd(x)"
   ]
  },
  {
   "cell_type": "markdown",
   "metadata": {},
   "source": [
    "**Spørgsmål II.3 (5)**\n",
    "\n",
    "Man ønsker at give en garanti for at beregningstiden er under et vist niveau. Man vil derfor\n",
    "beregne et konfidensinterval for 90% fraktilen og der defineres en funktion i R til beregning af\n",
    "denne:"
   ]
  },
  {
   "cell_type": "code",
   "execution_count": 12,
   "metadata": {
    "vscode": {
     "languageId": "r"
    }
   },
   "outputs": [],
   "source": [
    "q90 <- function(x){ quantile(x, prob=0.9, type=2) }"
   ]
  },
  {
   "cell_type": "markdown",
   "metadata": {},
   "source": [
    "The differences in the answers are:\n",
    "\n",
    "* replace: must be TRUE\n",
    "* quantiles calculated: they must be 2.5% and 97.5% to have the right significance level\n",
    "with 95% percent in between"
   ]
  },
  {
   "cell_type": "code",
   "execution_count": 19,
   "metadata": {
    "vscode": {
     "languageId": "r"
    }
   },
   "outputs": [
    {
     "data": {
      "text/html": [
       "<style>\n",
       ".dl-inline {width: auto; margin:0; padding: 0}\n",
       ".dl-inline>dt, .dl-inline>dd {float: none; width: auto; display: inline-block}\n",
       ".dl-inline>dt::after {content: \":\\0020\"; padding-right: .5ex}\n",
       ".dl-inline>dt:not(:first-of-type) {padding-left: .5ex}\n",
       "</style><dl class=dl-inline><dt>2.5%</dt><dd>4.6</dd><dt>97.5%</dt><dd>10.5</dd></dl>\n"
      ],
      "text/latex": [
       "\\begin{description*}\n",
       "\\item[2.5\\textbackslash{}\\%] 4.6\n",
       "\\item[97.5\\textbackslash{}\\%] 10.5\n",
       "\\end{description*}\n"
      ],
      "text/markdown": [
       "2.5%\n",
       ":   4.697.5%\n",
       ":   10.5\n",
       "\n"
      ],
      "text/plain": [
       " 2.5% 97.5% \n",
       "  4.6  10.5 "
      ]
     },
     "metadata": {},
     "output_type": "display_data"
    }
   ],
   "source": [
    "simsamples <- replicate(10000, sample(x, replace = TRUE))\n",
    "simmeans <- apply(simsamples, 2, q90)\n",
    "quantile(simmeans, c(0.025, 0.975))"
   ]
  },
  {
   "cell_type": "markdown",
   "metadata": {},
   "source": [
    "## Opgave III\n",
    "En NGO har 15 telefonopringere ansat til at skaffe nye medlemmer. Lad X repræsentere det\n",
    "antal medlemmer, en enkelt opringer får på en arbejdsdag. Antallet af nye medlemmer, hver\n",
    "opringer får på en dag, kan antages at være uafhængigt af hinanden. Fra erfaring ved man, at\n",
    "en god model er, at X følger en binomialfordeling, hvor sandsynligheden for, at et nyt medlem\n",
    "fåes ved en opringning, er sat til 7%. Det antages, at opringerne kan nå 120 opkald på en dag."
   ]
  },
  {
   "cell_type": "markdown",
   "metadata": {},
   "source": [
    "**Spørgsmål III.1 (6)**\n",
    "\n",
    "Hvad er sandsynligheden for, at en opkalder på en enkelt dag skaffer over 5 nye medlemmer?"
   ]
  },
  {
   "cell_type": "code",
   "execution_count": 20,
   "metadata": {
    "vscode": {
     "languageId": "r"
    }
   },
   "outputs": [
    {
     "data": {
      "text/html": [
       "0.852278216185024"
      ],
      "text/latex": [
       "0.852278216185024"
      ],
      "text/markdown": [
       "0.852278216185024"
      ],
      "text/plain": [
       "[1] 0.8522782"
      ]
     },
     "metadata": {},
     "output_type": "display_data"
    }
   ],
   "source": [
    "1 - pbinom(5, size=120, prob=0.07)"
   ]
  },
  {
   "cell_type": "code",
   "execution_count": null,
   "metadata": {
    "vscode": {
     "languageId": "r"
    }
   },
   "outputs": [],
   "source": [
    "**Spørgsmål III.2 (7)**\n",
    "\n",
    "Hvis Y angiver det samlede antal nye medlemmer de 15 opringere kan skaffe p˚a en dag, hvad\n",
    "er da er middelværdi og varians for Y ?"
   ]
  }
 ],
 "metadata": {
  "kernelspec": {
   "display_name": "R",
   "language": "R",
   "name": "ir"
  },
  "language_info": {
   "codemirror_mode": "r",
   "file_extension": ".r",
   "mimetype": "text/x-r-source",
   "name": "R",
   "pygments_lexer": "r",
   "version": "4.1.2"
  },
  "orig_nbformat": 4
 },
 "nbformat": 4,
 "nbformat_minor": 2
}
